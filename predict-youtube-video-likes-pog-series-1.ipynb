{
 "cells": [
  {
   "cell_type": "code",
   "execution_count": 1,
   "id": "cedc9713",
   "metadata": {
    "_cell_guid": "b1076dfc-b9ad-4769-8c92-a6c4dae69d19",
    "_uuid": "8f2839f25d086af736a60e9eeb907d3b93b6e0e5",
    "execution": {
     "iopub.execute_input": "2022-02-12T17:27:52.278969Z",
     "iopub.status.busy": "2022-02-12T17:27:52.277477Z",
     "iopub.status.idle": "2022-02-12T17:27:53.154215Z",
     "shell.execute_reply": "2022-02-12T17:27:53.153568Z",
     "shell.execute_reply.started": "2022-02-12T15:35:45.542008Z"
    },
    "papermill": {
     "duration": 0.920492,
     "end_time": "2022-02-12T17:27:53.154372",
     "exception": false,
     "start_time": "2022-02-12T17:27:52.233880",
     "status": "completed"
    },
    "tags": []
   },
   "outputs": [],
   "source": [
    "#import common packages\n",
    "import numpy as np\n",
    "import pandas as pd\n",
    "import matplotlib.pyplot as plt\n",
    "import seaborn as sns\n",
    "#import warning\n",
    "import warnings\n",
    "warnings.filterwarnings('ignore')"
   ]
  },
  {
   "cell_type": "code",
   "execution_count": 2,
   "id": "94f9b313",
   "metadata": {
    "execution": {
     "iopub.execute_input": "2022-02-12T17:27:53.238279Z",
     "iopub.status.busy": "2022-02-12T17:27:53.237419Z",
     "iopub.status.idle": "2022-02-12T17:27:55.296732Z",
     "shell.execute_reply": "2022-02-12T17:27:55.296248Z",
     "shell.execute_reply.started": "2022-02-12T15:35:45.549776Z"
    },
    "papermill": {
     "duration": 2.103408,
     "end_time": "2022-02-12T17:27:55.296862",
     "exception": false,
     "start_time": "2022-02-12T17:27:53.193454",
     "status": "completed"
    },
    "tags": []
   },
   "outputs": [],
   "source": [
    "#importing data\n",
    "train = pd.read_parquet('../input/kaggle-pog-series-s01e01/train.parquet')\n",
    "test = pd.read_parquet('../input/kaggle-pog-series-s01e01/test.parquet')\n",
    "sample_sub = pd.read_csv('../input/kaggle-pog-series-s01e01/sample_submission.csv')"
   ]
  },
  {
   "cell_type": "code",
   "execution_count": 3,
   "id": "646cd42f",
   "metadata": {
    "execution": {
     "iopub.execute_input": "2022-02-12T17:27:55.382923Z",
     "iopub.status.busy": "2022-02-12T17:27:55.382185Z",
     "iopub.status.idle": "2022-02-12T17:27:55.385533Z",
     "shell.execute_reply": "2022-02-12T17:27:55.385927Z",
     "shell.execute_reply.started": "2022-02-12T15:35:45.984734Z"
    },
    "papermill": {
     "duration": 0.050755,
     "end_time": "2022-02-12T17:27:55.386078",
     "exception": false,
     "start_time": "2022-02-12T17:27:55.335323",
     "status": "completed"
    },
    "tags": []
   },
   "outputs": [
    {
     "data": {
      "text/plain": [
       "((92275, 20), (5800, 16))"
      ]
     },
     "execution_count": 3,
     "metadata": {},
     "output_type": "execute_result"
    }
   ],
   "source": [
    "train.shape,test.shape"
   ]
  },
  {
   "cell_type": "code",
   "execution_count": 4,
   "id": "e0781422",
   "metadata": {
    "execution": {
     "iopub.execute_input": "2022-02-12T17:27:55.467342Z",
     "iopub.status.busy": "2022-02-12T17:27:55.465899Z",
     "iopub.status.idle": "2022-02-12T17:27:55.487415Z",
     "shell.execute_reply": "2022-02-12T17:27:55.487926Z",
     "shell.execute_reply.started": "2022-02-12T15:35:45.995479Z"
    },
    "papermill": {
     "duration": 0.063577,
     "end_time": "2022-02-12T17:27:55.488084",
     "exception": false,
     "start_time": "2022-02-12T17:27:55.424507",
     "status": "completed"
    },
    "tags": []
   },
   "outputs": [
    {
     "data": {
      "text/html": [
       "<div>\n",
       "<style scoped>\n",
       "    .dataframe tbody tr th:only-of-type {\n",
       "        vertical-align: middle;\n",
       "    }\n",
       "\n",
       "    .dataframe tbody tr th {\n",
       "        vertical-align: top;\n",
       "    }\n",
       "\n",
       "    .dataframe thead th {\n",
       "        text-align: right;\n",
       "    }\n",
       "</style>\n",
       "<table border=\"1\" class=\"dataframe\">\n",
       "  <thead>\n",
       "    <tr style=\"text-align: right;\">\n",
       "      <th></th>\n",
       "      <th>video_id</th>\n",
       "      <th>title</th>\n",
       "      <th>publishedAt</th>\n",
       "      <th>channelId</th>\n",
       "      <th>channelTitle</th>\n",
       "      <th>categoryId</th>\n",
       "      <th>trending_date</th>\n",
       "      <th>tags</th>\n",
       "      <th>view_count</th>\n",
       "      <th>likes</th>\n",
       "      <th>dislikes</th>\n",
       "      <th>comment_count</th>\n",
       "      <th>thumbnail_link</th>\n",
       "      <th>comments_disabled</th>\n",
       "      <th>ratings_disabled</th>\n",
       "      <th>description</th>\n",
       "      <th>id</th>\n",
       "      <th>duration_seconds</th>\n",
       "      <th>has_thumbnail</th>\n",
       "      <th>target</th>\n",
       "    </tr>\n",
       "  </thead>\n",
       "  <tbody>\n",
       "    <tr>\n",
       "      <th>0</th>\n",
       "      <td>3C66w5Z0ixs</td>\n",
       "      <td>I ASKED HER TO BE MY GIRLFRIEND...</td>\n",
       "      <td>2020-08-11 19:20:14+00:00</td>\n",
       "      <td>UCvtRTOMP2TqYqu51xNrqAzg</td>\n",
       "      <td>Brawadis</td>\n",
       "      <td>22</td>\n",
       "      <td>2020-08-12</td>\n",
       "      <td>brawadis|prank|basketball|skits|ghost|funny vi...</td>\n",
       "      <td>1514614</td>\n",
       "      <td>156908</td>\n",
       "      <td>5855</td>\n",
       "      <td>35313</td>\n",
       "      <td>https://i.ytimg.com/vi/3C66w5Z0ixs/default.jpg</td>\n",
       "      <td>False</td>\n",
       "      <td>False</td>\n",
       "      <td>SUBSCRIBE to BRAWADIS ▶ http://bit.ly/Subscrib...</td>\n",
       "      <td>3C66w5Z0ixs_2020-08-12</td>\n",
       "      <td>NaN</td>\n",
       "      <td>True</td>\n",
       "      <td>0.103596</td>\n",
       "    </tr>\n",
       "    <tr>\n",
       "      <th>1</th>\n",
       "      <td>M9Pmf9AB4Mo</td>\n",
       "      <td>Apex Legends | Stories from the Outlands – “Th...</td>\n",
       "      <td>2020-08-11 17:00:10+00:00</td>\n",
       "      <td>UC0ZV6M2THA81QT9hrVWJG3A</td>\n",
       "      <td>Apex Legends</td>\n",
       "      <td>20</td>\n",
       "      <td>2020-08-12</td>\n",
       "      <td>Apex Legends|Apex Legends characters|new Apex ...</td>\n",
       "      <td>2381688</td>\n",
       "      <td>146739</td>\n",
       "      <td>2794</td>\n",
       "      <td>16549</td>\n",
       "      <td>https://i.ytimg.com/vi/M9Pmf9AB4Mo/default.jpg</td>\n",
       "      <td>False</td>\n",
       "      <td>False</td>\n",
       "      <td>While running her own modding shop, Ramya Pare...</td>\n",
       "      <td>M9Pmf9AB4Mo_2020-08-12</td>\n",
       "      <td>NaN</td>\n",
       "      <td>True</td>\n",
       "      <td>0.061611</td>\n",
       "    </tr>\n",
       "    <tr>\n",
       "      <th>2</th>\n",
       "      <td>J78aPJ3VyNs</td>\n",
       "      <td>I left youtube for a month and THIS is what ha...</td>\n",
       "      <td>2020-08-11 16:34:06+00:00</td>\n",
       "      <td>UCYzPXprvl5Y-Sf0g4vX-m6g</td>\n",
       "      <td>jacksepticeye</td>\n",
       "      <td>24</td>\n",
       "      <td>2020-08-12</td>\n",
       "      <td>jacksepticeye|funny|funny meme|memes|jacksepti...</td>\n",
       "      <td>2038853</td>\n",
       "      <td>353787</td>\n",
       "      <td>2628</td>\n",
       "      <td>40221</td>\n",
       "      <td>https://i.ytimg.com/vi/J78aPJ3VyNs/default.jpg</td>\n",
       "      <td>False</td>\n",
       "      <td>False</td>\n",
       "      <td>I left youtube for a month and this is what ha...</td>\n",
       "      <td>J78aPJ3VyNs_2020-08-12</td>\n",
       "      <td>NaN</td>\n",
       "      <td>True</td>\n",
       "      <td>0.173523</td>\n",
       "    </tr>\n",
       "    <tr>\n",
       "      <th>3</th>\n",
       "      <td>kXLn3HkpjaA</td>\n",
       "      <td>XXL 2020 Freshman Class Revealed - Official An...</td>\n",
       "      <td>2020-08-11 16:38:55+00:00</td>\n",
       "      <td>UCbg_UMjlHJg_19SZckaKajg</td>\n",
       "      <td>XXL</td>\n",
       "      <td>10</td>\n",
       "      <td>2020-08-12</td>\n",
       "      <td>xxl freshman|xxl freshmen|2020 xxl freshman|20...</td>\n",
       "      <td>496771</td>\n",
       "      <td>23251</td>\n",
       "      <td>1856</td>\n",
       "      <td>7647</td>\n",
       "      <td>https://i.ytimg.com/vi/kXLn3HkpjaA/default.jpg</td>\n",
       "      <td>False</td>\n",
       "      <td>False</td>\n",
       "      <td>Subscribe to XXL → http://bit.ly/subscribe-xxl...</td>\n",
       "      <td>kXLn3HkpjaA_2020-08-12</td>\n",
       "      <td>NaN</td>\n",
       "      <td>True</td>\n",
       "      <td>0.046804</td>\n",
       "    </tr>\n",
       "    <tr>\n",
       "      <th>4</th>\n",
       "      <td>VIUo6yapDbc</td>\n",
       "      <td>Ultimate DIY Home Movie Theater for The LaBran...</td>\n",
       "      <td>2020-08-11 15:10:05+00:00</td>\n",
       "      <td>UCDVPcEbVLQgLZX0Rt6jo34A</td>\n",
       "      <td>Mr. Kate</td>\n",
       "      <td>26</td>\n",
       "      <td>2020-08-12</td>\n",
       "      <td>The LaBrant Family|DIY|Interior Design|Makeove...</td>\n",
       "      <td>1123889</td>\n",
       "      <td>45802</td>\n",
       "      <td>964</td>\n",
       "      <td>2196</td>\n",
       "      <td>https://i.ytimg.com/vi/VIUo6yapDbc/default.jpg</td>\n",
       "      <td>False</td>\n",
       "      <td>False</td>\n",
       "      <td>Transforming The LaBrant Family's empty white ...</td>\n",
       "      <td>VIUo6yapDbc_2020-08-12</td>\n",
       "      <td>NaN</td>\n",
       "      <td>True</td>\n",
       "      <td>0.040753</td>\n",
       "    </tr>\n",
       "  </tbody>\n",
       "</table>\n",
       "</div>"
      ],
      "text/plain": [
       "      video_id                                              title  \\\n",
       "0  3C66w5Z0ixs                 I ASKED HER TO BE MY GIRLFRIEND...   \n",
       "1  M9Pmf9AB4Mo  Apex Legends | Stories from the Outlands – “Th...   \n",
       "2  J78aPJ3VyNs  I left youtube for a month and THIS is what ha...   \n",
       "3  kXLn3HkpjaA  XXL 2020 Freshman Class Revealed - Official An...   \n",
       "4  VIUo6yapDbc  Ultimate DIY Home Movie Theater for The LaBran...   \n",
       "\n",
       "                publishedAt                 channelId   channelTitle  \\\n",
       "0 2020-08-11 19:20:14+00:00  UCvtRTOMP2TqYqu51xNrqAzg       Brawadis   \n",
       "1 2020-08-11 17:00:10+00:00  UC0ZV6M2THA81QT9hrVWJG3A   Apex Legends   \n",
       "2 2020-08-11 16:34:06+00:00  UCYzPXprvl5Y-Sf0g4vX-m6g  jacksepticeye   \n",
       "3 2020-08-11 16:38:55+00:00  UCbg_UMjlHJg_19SZckaKajg            XXL   \n",
       "4 2020-08-11 15:10:05+00:00  UCDVPcEbVLQgLZX0Rt6jo34A       Mr. Kate   \n",
       "\n",
       "   categoryId trending_date  \\\n",
       "0          22    2020-08-12   \n",
       "1          20    2020-08-12   \n",
       "2          24    2020-08-12   \n",
       "3          10    2020-08-12   \n",
       "4          26    2020-08-12   \n",
       "\n",
       "                                                tags  view_count   likes  \\\n",
       "0  brawadis|prank|basketball|skits|ghost|funny vi...     1514614  156908   \n",
       "1  Apex Legends|Apex Legends characters|new Apex ...     2381688  146739   \n",
       "2  jacksepticeye|funny|funny meme|memes|jacksepti...     2038853  353787   \n",
       "3  xxl freshman|xxl freshmen|2020 xxl freshman|20...      496771   23251   \n",
       "4  The LaBrant Family|DIY|Interior Design|Makeove...     1123889   45802   \n",
       "\n",
       "   dislikes  comment_count                                  thumbnail_link  \\\n",
       "0      5855          35313  https://i.ytimg.com/vi/3C66w5Z0ixs/default.jpg   \n",
       "1      2794          16549  https://i.ytimg.com/vi/M9Pmf9AB4Mo/default.jpg   \n",
       "2      2628          40221  https://i.ytimg.com/vi/J78aPJ3VyNs/default.jpg   \n",
       "3      1856           7647  https://i.ytimg.com/vi/kXLn3HkpjaA/default.jpg   \n",
       "4       964           2196  https://i.ytimg.com/vi/VIUo6yapDbc/default.jpg   \n",
       "\n",
       "   comments_disabled  ratings_disabled  \\\n",
       "0              False             False   \n",
       "1              False             False   \n",
       "2              False             False   \n",
       "3              False             False   \n",
       "4              False             False   \n",
       "\n",
       "                                         description                      id  \\\n",
       "0  SUBSCRIBE to BRAWADIS ▶ http://bit.ly/Subscrib...  3C66w5Z0ixs_2020-08-12   \n",
       "1  While running her own modding shop, Ramya Pare...  M9Pmf9AB4Mo_2020-08-12   \n",
       "2  I left youtube for a month and this is what ha...  J78aPJ3VyNs_2020-08-12   \n",
       "3  Subscribe to XXL → http://bit.ly/subscribe-xxl...  kXLn3HkpjaA_2020-08-12   \n",
       "4  Transforming The LaBrant Family's empty white ...  VIUo6yapDbc_2020-08-12   \n",
       "\n",
       "   duration_seconds  has_thumbnail    target  \n",
       "0               NaN           True  0.103596  \n",
       "1               NaN           True  0.061611  \n",
       "2               NaN           True  0.173523  \n",
       "3               NaN           True  0.046804  \n",
       "4               NaN           True  0.040753  "
      ]
     },
     "execution_count": 4,
     "metadata": {},
     "output_type": "execute_result"
    }
   ],
   "source": [
    "#glimpse for train\n",
    "train.head()"
   ]
  },
  {
   "cell_type": "code",
   "execution_count": 5,
   "id": "23a75bae",
   "metadata": {
    "execution": {
     "iopub.execute_input": "2022-02-12T17:27:55.570484Z",
     "iopub.status.busy": "2022-02-12T17:27:55.569655Z",
     "iopub.status.idle": "2022-02-12T17:27:55.575644Z",
     "shell.execute_reply": "2022-02-12T17:27:55.575214Z",
     "shell.execute_reply.started": "2022-02-12T15:35:46.016509Z"
    },
    "papermill": {
     "duration": 0.04791,
     "end_time": "2022-02-12T17:27:55.575758",
     "exception": false,
     "start_time": "2022-02-12T17:27:55.527848",
     "status": "completed"
    },
    "tags": []
   },
   "outputs": [
    {
     "data": {
      "text/plain": [
       "(92275, 20)"
      ]
     },
     "execution_count": 5,
     "metadata": {},
     "output_type": "execute_result"
    }
   ],
   "source": [
    "train.shape"
   ]
  },
  {
   "cell_type": "code",
   "execution_count": 6,
   "id": "bdac11ae",
   "metadata": {
    "execution": {
     "iopub.execute_input": "2022-02-12T17:27:55.665835Z",
     "iopub.status.busy": "2022-02-12T17:27:55.665034Z",
     "iopub.status.idle": "2022-02-12T17:27:55.680898Z",
     "shell.execute_reply": "2022-02-12T17:27:55.680480Z",
     "shell.execute_reply.started": "2022-02-12T15:35:46.025195Z"
    },
    "papermill": {
     "duration": 0.066352,
     "end_time": "2022-02-12T17:27:55.681033",
     "exception": false,
     "start_time": "2022-02-12T17:27:55.614681",
     "status": "completed"
    },
    "tags": []
   },
   "outputs": [
    {
     "name": "stdout",
     "output_type": "stream",
     "text": [
      "4563\n",
      "15\n",
      "16969\n"
     ]
    }
   ],
   "source": [
    "print(len(train.channelId.unique()))\n",
    "print(len(train.categoryId.unique()))\n",
    "print(len(train.video_id.unique()))"
   ]
  },
  {
   "cell_type": "code",
   "execution_count": 7,
   "id": "7ef15c07",
   "metadata": {
    "execution": {
     "iopub.execute_input": "2022-02-12T17:27:55.764872Z",
     "iopub.status.busy": "2022-02-12T17:27:55.763843Z",
     "iopub.status.idle": "2022-02-12T17:27:55.812069Z",
     "shell.execute_reply": "2022-02-12T17:27:55.812555Z",
     "shell.execute_reply.started": "2022-02-12T15:35:46.050148Z"
    },
    "papermill": {
     "duration": 0.092219,
     "end_time": "2022-02-12T17:27:55.812696",
     "exception": false,
     "start_time": "2022-02-12T17:27:55.720477",
     "status": "completed"
    },
    "tags": []
   },
   "outputs": [
    {
     "data": {
      "text/html": [
       "<div>\n",
       "<style scoped>\n",
       "    .dataframe tbody tr th:only-of-type {\n",
       "        vertical-align: middle;\n",
       "    }\n",
       "\n",
       "    .dataframe tbody tr th {\n",
       "        vertical-align: top;\n",
       "    }\n",
       "\n",
       "    .dataframe thead th {\n",
       "        text-align: right;\n",
       "    }\n",
       "</style>\n",
       "<table border=\"1\" class=\"dataframe\">\n",
       "  <thead>\n",
       "    <tr style=\"text-align: right;\">\n",
       "      <th></th>\n",
       "      <th>categoryId</th>\n",
       "      <th>view_count</th>\n",
       "      <th>likes</th>\n",
       "      <th>dislikes</th>\n",
       "      <th>comment_count</th>\n",
       "      <th>duration_seconds</th>\n",
       "      <th>target</th>\n",
       "    </tr>\n",
       "  </thead>\n",
       "  <tbody>\n",
       "    <tr>\n",
       "      <th>count</th>\n",
       "      <td>92275.000000</td>\n",
       "      <td>9.227500e+04</td>\n",
       "      <td>9.227500e+04</td>\n",
       "      <td>92275.000000</td>\n",
       "      <td>9.227500e+04</td>\n",
       "      <td>90099.000000</td>\n",
       "      <td>92275.000000</td>\n",
       "    </tr>\n",
       "    <tr>\n",
       "      <th>mean</th>\n",
       "      <td>18.733416</td>\n",
       "      <td>2.779091e+06</td>\n",
       "      <td>1.521223e+05</td>\n",
       "      <td>3110.977307</td>\n",
       "      <td>1.373574e+04</td>\n",
       "      <td>760.614602</td>\n",
       "      <td>0.057060</td>\n",
       "    </tr>\n",
       "    <tr>\n",
       "      <th>std</th>\n",
       "      <td>6.866404</td>\n",
       "      <td>7.364113e+06</td>\n",
       "      <td>4.374777e+05</td>\n",
       "      <td>13342.743386</td>\n",
       "      <td>9.672682e+04</td>\n",
       "      <td>5816.818926</td>\n",
       "      <td>0.040373</td>\n",
       "    </tr>\n",
       "    <tr>\n",
       "      <th>min</th>\n",
       "      <td>1.000000</td>\n",
       "      <td>3.851000e+04</td>\n",
       "      <td>0.000000e+00</td>\n",
       "      <td>0.000000</td>\n",
       "      <td>0.000000e+00</td>\n",
       "      <td>3.000000</td>\n",
       "      <td>0.000000</td>\n",
       "    </tr>\n",
       "    <tr>\n",
       "      <th>25%</th>\n",
       "      <td>17.000000</td>\n",
       "      <td>5.312440e+05</td>\n",
       "      <td>2.136300e+04</td>\n",
       "      <td>368.000000</td>\n",
       "      <td>1.692000e+03</td>\n",
       "      <td>184.000000</td>\n",
       "      <td>0.028066</td>\n",
       "    </tr>\n",
       "    <tr>\n",
       "      <th>50%</th>\n",
       "      <td>20.000000</td>\n",
       "      <td>1.100045e+06</td>\n",
       "      <td>5.169200e+04</td>\n",
       "      <td>852.000000</td>\n",
       "      <td>3.856000e+03</td>\n",
       "      <td>446.000000</td>\n",
       "      <td>0.050784</td>\n",
       "    </tr>\n",
       "    <tr>\n",
       "      <th>75%</th>\n",
       "      <td>24.000000</td>\n",
       "      <td>2.482274e+06</td>\n",
       "      <td>1.312825e+05</td>\n",
       "      <td>2239.000000</td>\n",
       "      <td>9.322000e+03</td>\n",
       "      <td>854.000000</td>\n",
       "      <td>0.075265</td>\n",
       "    </tr>\n",
       "    <tr>\n",
       "      <th>max</th>\n",
       "      <td>29.000000</td>\n",
       "      <td>2.644074e+08</td>\n",
       "      <td>1.602153e+07</td>\n",
       "      <td>879354.000000</td>\n",
       "      <td>6.738537e+06</td>\n",
       "      <td>485620.000000</td>\n",
       "      <td>0.433503</td>\n",
       "    </tr>\n",
       "  </tbody>\n",
       "</table>\n",
       "</div>"
      ],
      "text/plain": [
       "         categoryId    view_count         likes       dislikes  comment_count  \\\n",
       "count  92275.000000  9.227500e+04  9.227500e+04   92275.000000   9.227500e+04   \n",
       "mean      18.733416  2.779091e+06  1.521223e+05    3110.977307   1.373574e+04   \n",
       "std        6.866404  7.364113e+06  4.374777e+05   13342.743386   9.672682e+04   \n",
       "min        1.000000  3.851000e+04  0.000000e+00       0.000000   0.000000e+00   \n",
       "25%       17.000000  5.312440e+05  2.136300e+04     368.000000   1.692000e+03   \n",
       "50%       20.000000  1.100045e+06  5.169200e+04     852.000000   3.856000e+03   \n",
       "75%       24.000000  2.482274e+06  1.312825e+05    2239.000000   9.322000e+03   \n",
       "max       29.000000  2.644074e+08  1.602153e+07  879354.000000   6.738537e+06   \n",
       "\n",
       "       duration_seconds        target  \n",
       "count      90099.000000  92275.000000  \n",
       "mean         760.614602      0.057060  \n",
       "std         5816.818926      0.040373  \n",
       "min            3.000000      0.000000  \n",
       "25%          184.000000      0.028066  \n",
       "50%          446.000000      0.050784  \n",
       "75%          854.000000      0.075265  \n",
       "max       485620.000000      0.433503  "
      ]
     },
     "execution_count": 7,
     "metadata": {},
     "output_type": "execute_result"
    }
   ],
   "source": [
    "train.describe()"
   ]
  },
  {
   "cell_type": "code",
   "execution_count": 8,
   "id": "678ee3ab",
   "metadata": {
    "execution": {
     "iopub.execute_input": "2022-02-12T17:27:55.902357Z",
     "iopub.status.busy": "2022-02-12T17:27:55.901679Z",
     "iopub.status.idle": "2022-02-12T17:27:55.904444Z",
     "shell.execute_reply": "2022-02-12T17:27:55.904842Z",
     "shell.execute_reply.started": "2022-02-12T15:35:46.096830Z"
    },
    "papermill": {
     "duration": 0.051749,
     "end_time": "2022-02-12T17:27:55.904976",
     "exception": false,
     "start_time": "2022-02-12T17:27:55.853227",
     "status": "completed"
    },
    "tags": []
   },
   "outputs": [
    {
     "data": {
      "text/plain": [
       "(video_id                          object\n",
       " title                             object\n",
       " publishedAt          datetime64[ns, UTC]\n",
       " channelId                         object\n",
       " channelTitle                      object\n",
       " categoryId                         int64\n",
       " trending_date                     object\n",
       " tags                              object\n",
       " view_count                         int64\n",
       " likes                              int64\n",
       " dislikes                           int64\n",
       " comment_count                      int64\n",
       " thumbnail_link                    object\n",
       " comments_disabled                   bool\n",
       " ratings_disabled                    bool\n",
       " description                       object\n",
       " id                                object\n",
       " duration_seconds                 float64\n",
       " has_thumbnail                       bool\n",
       " target                           float64\n",
       " dtype: object,\n",
       " video_id                          object\n",
       " title                             object\n",
       " publishedAt          datetime64[ns, UTC]\n",
       " channelId                         object\n",
       " channelTitle                      object\n",
       " categoryId                         int64\n",
       " trending_date                     object\n",
       " tags                              object\n",
       " thumbnail_link                    object\n",
       " comments_disabled                   bool\n",
       " ratings_disabled                    bool\n",
       " description                       object\n",
       " id                                object\n",
       " duration_seconds                 float64\n",
       " has_thumbnail                       bool\n",
       " isTest                              bool\n",
       " dtype: object)"
      ]
     },
     "execution_count": 8,
     "metadata": {},
     "output_type": "execute_result"
    }
   ],
   "source": [
    "#checking train and test columns type\n",
    "train.dtypes, test.dtypes"
   ]
  },
  {
   "cell_type": "code",
   "execution_count": 9,
   "id": "873845f0",
   "metadata": {
    "execution": {
     "iopub.execute_input": "2022-02-12T17:27:55.993736Z",
     "iopub.status.busy": "2022-02-12T17:27:55.992877Z",
     "iopub.status.idle": "2022-02-12T17:27:55.994696Z",
     "shell.execute_reply": "2022-02-12T17:27:55.995143Z",
     "shell.execute_reply.started": "2022-02-12T15:35:46.108651Z"
    },
    "papermill": {
     "duration": 0.04873,
     "end_time": "2022-02-12T17:27:55.995285",
     "exception": false,
     "start_time": "2022-02-12T17:27:55.946555",
     "status": "completed"
    },
    "tags": []
   },
   "outputs": [],
   "source": [
    "#dealing with missing values\n",
    "#function to find Missing Value in every columns\n",
    "def get_missing_value(df):\n",
    "    mis_val = df.isnull().sum()\n",
    "    tot_val = df.shape[0]\n",
    "    mis_percentage = round((100 * mis_val / tot_val),2)\n",
    "    miss_tab = pd.concat([mis_val, mis_percentage], axis=1)\n",
    "    miss_tab_col_name = miss_tab.rename(columns = {0 : 'Row With Missing Value', 1 : 'Percentage (%)'})\n",
    "    miss_tab_col_name = miss_tab_col_name.sort_values('Percentage (%)',ascending=False)\n",
    "    return miss_tab_col_name"
   ]
  },
  {
   "cell_type": "code",
   "execution_count": 10,
   "id": "f99b60dc",
   "metadata": {
    "execution": {
     "iopub.execute_input": "2022-02-12T17:27:56.159696Z",
     "iopub.status.busy": "2022-02-12T17:27:56.158756Z",
     "iopub.status.idle": "2022-02-12T17:27:56.174649Z",
     "shell.execute_reply": "2022-02-12T17:27:56.174112Z",
     "shell.execute_reply.started": "2022-02-12T15:35:46.116248Z"
    },
    "papermill": {
     "duration": 0.138356,
     "end_time": "2022-02-12T17:27:56.174772",
     "exception": false,
     "start_time": "2022-02-12T17:27:56.036416",
     "status": "completed"
    },
    "tags": []
   },
   "outputs": [
    {
     "data": {
      "text/html": [
       "<div>\n",
       "<style scoped>\n",
       "    .dataframe tbody tr th:only-of-type {\n",
       "        vertical-align: middle;\n",
       "    }\n",
       "\n",
       "    .dataframe tbody tr th {\n",
       "        vertical-align: top;\n",
       "    }\n",
       "\n",
       "    .dataframe thead th {\n",
       "        text-align: right;\n",
       "    }\n",
       "</style>\n",
       "<table border=\"1\" class=\"dataframe\">\n",
       "  <thead>\n",
       "    <tr style=\"text-align: right;\">\n",
       "      <th></th>\n",
       "      <th>Row With Missing Value</th>\n",
       "      <th>Percentage (%)</th>\n",
       "    </tr>\n",
       "  </thead>\n",
       "  <tbody>\n",
       "    <tr>\n",
       "      <th>duration_seconds</th>\n",
       "      <td>2176</td>\n",
       "      <td>2.36</td>\n",
       "    </tr>\n",
       "    <tr>\n",
       "      <th>description</th>\n",
       "      <td>1476</td>\n",
       "      <td>1.60</td>\n",
       "    </tr>\n",
       "    <tr>\n",
       "      <th>video_id</th>\n",
       "      <td>0</td>\n",
       "      <td>0.00</td>\n",
       "    </tr>\n",
       "    <tr>\n",
       "      <th>title</th>\n",
       "      <td>0</td>\n",
       "      <td>0.00</td>\n",
       "    </tr>\n",
       "    <tr>\n",
       "      <th>has_thumbnail</th>\n",
       "      <td>0</td>\n",
       "      <td>0.00</td>\n",
       "    </tr>\n",
       "    <tr>\n",
       "      <th>id</th>\n",
       "      <td>0</td>\n",
       "      <td>0.00</td>\n",
       "    </tr>\n",
       "    <tr>\n",
       "      <th>ratings_disabled</th>\n",
       "      <td>0</td>\n",
       "      <td>0.00</td>\n",
       "    </tr>\n",
       "    <tr>\n",
       "      <th>comments_disabled</th>\n",
       "      <td>0</td>\n",
       "      <td>0.00</td>\n",
       "    </tr>\n",
       "    <tr>\n",
       "      <th>thumbnail_link</th>\n",
       "      <td>0</td>\n",
       "      <td>0.00</td>\n",
       "    </tr>\n",
       "    <tr>\n",
       "      <th>comment_count</th>\n",
       "      <td>0</td>\n",
       "      <td>0.00</td>\n",
       "    </tr>\n",
       "    <tr>\n",
       "      <th>dislikes</th>\n",
       "      <td>0</td>\n",
       "      <td>0.00</td>\n",
       "    </tr>\n",
       "    <tr>\n",
       "      <th>likes</th>\n",
       "      <td>0</td>\n",
       "      <td>0.00</td>\n",
       "    </tr>\n",
       "    <tr>\n",
       "      <th>view_count</th>\n",
       "      <td>0</td>\n",
       "      <td>0.00</td>\n",
       "    </tr>\n",
       "    <tr>\n",
       "      <th>tags</th>\n",
       "      <td>0</td>\n",
       "      <td>0.00</td>\n",
       "    </tr>\n",
       "    <tr>\n",
       "      <th>trending_date</th>\n",
       "      <td>0</td>\n",
       "      <td>0.00</td>\n",
       "    </tr>\n",
       "    <tr>\n",
       "      <th>categoryId</th>\n",
       "      <td>0</td>\n",
       "      <td>0.00</td>\n",
       "    </tr>\n",
       "    <tr>\n",
       "      <th>channelTitle</th>\n",
       "      <td>0</td>\n",
       "      <td>0.00</td>\n",
       "    </tr>\n",
       "    <tr>\n",
       "      <th>channelId</th>\n",
       "      <td>0</td>\n",
       "      <td>0.00</td>\n",
       "    </tr>\n",
       "    <tr>\n",
       "      <th>publishedAt</th>\n",
       "      <td>0</td>\n",
       "      <td>0.00</td>\n",
       "    </tr>\n",
       "    <tr>\n",
       "      <th>target</th>\n",
       "      <td>0</td>\n",
       "      <td>0.00</td>\n",
       "    </tr>\n",
       "  </tbody>\n",
       "</table>\n",
       "</div>"
      ],
      "text/plain": [
       "                   Row With Missing Value  Percentage (%)\n",
       "duration_seconds                     2176            2.36\n",
       "description                          1476            1.60\n",
       "video_id                                0            0.00\n",
       "title                                   0            0.00\n",
       "has_thumbnail                           0            0.00\n",
       "id                                      0            0.00\n",
       "ratings_disabled                        0            0.00\n",
       "comments_disabled                       0            0.00\n",
       "thumbnail_link                          0            0.00\n",
       "comment_count                           0            0.00\n",
       "dislikes                                0            0.00\n",
       "likes                                   0            0.00\n",
       "view_count                              0            0.00\n",
       "tags                                    0            0.00\n",
       "trending_date                           0            0.00\n",
       "categoryId                              0            0.00\n",
       "channelTitle                            0            0.00\n",
       "channelId                               0            0.00\n",
       "publishedAt                             0            0.00\n",
       "target                                  0            0.00"
      ]
     },
     "execution_count": 10,
     "metadata": {},
     "output_type": "execute_result"
    }
   ],
   "source": [
    "get_missing_value(train)"
   ]
  },
  {
   "cell_type": "code",
   "execution_count": 11,
   "id": "f78aeab4",
   "metadata": {
    "execution": {
     "iopub.execute_input": "2022-02-12T17:27:56.267112Z",
     "iopub.status.busy": "2022-02-12T17:27:56.266291Z",
     "iopub.status.idle": "2022-02-12T17:27:56.280042Z",
     "shell.execute_reply": "2022-02-12T17:27:56.279519Z",
     "shell.execute_reply.started": "2022-02-12T15:35:46.213102Z"
    },
    "papermill": {
     "duration": 0.064366,
     "end_time": "2022-02-12T17:27:56.280266",
     "exception": false,
     "start_time": "2022-02-12T17:27:56.215900",
     "status": "completed"
    },
    "tags": []
   },
   "outputs": [
    {
     "data": {
      "text/html": [
       "<div>\n",
       "<style scoped>\n",
       "    .dataframe tbody tr th:only-of-type {\n",
       "        vertical-align: middle;\n",
       "    }\n",
       "\n",
       "    .dataframe tbody tr th {\n",
       "        vertical-align: top;\n",
       "    }\n",
       "\n",
       "    .dataframe thead th {\n",
       "        text-align: right;\n",
       "    }\n",
       "</style>\n",
       "<table border=\"1\" class=\"dataframe\">\n",
       "  <thead>\n",
       "    <tr style=\"text-align: right;\">\n",
       "      <th></th>\n",
       "      <th>Row With Missing Value</th>\n",
       "      <th>Percentage (%)</th>\n",
       "    </tr>\n",
       "  </thead>\n",
       "  <tbody>\n",
       "    <tr>\n",
       "      <th>description</th>\n",
       "      <td>409</td>\n",
       "      <td>7.05</td>\n",
       "    </tr>\n",
       "    <tr>\n",
       "      <th>duration_seconds</th>\n",
       "      <td>20</td>\n",
       "      <td>0.34</td>\n",
       "    </tr>\n",
       "    <tr>\n",
       "      <th>video_id</th>\n",
       "      <td>0</td>\n",
       "      <td>0.00</td>\n",
       "    </tr>\n",
       "    <tr>\n",
       "      <th>title</th>\n",
       "      <td>0</td>\n",
       "      <td>0.00</td>\n",
       "    </tr>\n",
       "    <tr>\n",
       "      <th>publishedAt</th>\n",
       "      <td>0</td>\n",
       "      <td>0.00</td>\n",
       "    </tr>\n",
       "    <tr>\n",
       "      <th>channelId</th>\n",
       "      <td>0</td>\n",
       "      <td>0.00</td>\n",
       "    </tr>\n",
       "    <tr>\n",
       "      <th>channelTitle</th>\n",
       "      <td>0</td>\n",
       "      <td>0.00</td>\n",
       "    </tr>\n",
       "    <tr>\n",
       "      <th>categoryId</th>\n",
       "      <td>0</td>\n",
       "      <td>0.00</td>\n",
       "    </tr>\n",
       "    <tr>\n",
       "      <th>trending_date</th>\n",
       "      <td>0</td>\n",
       "      <td>0.00</td>\n",
       "    </tr>\n",
       "    <tr>\n",
       "      <th>tags</th>\n",
       "      <td>0</td>\n",
       "      <td>0.00</td>\n",
       "    </tr>\n",
       "    <tr>\n",
       "      <th>thumbnail_link</th>\n",
       "      <td>0</td>\n",
       "      <td>0.00</td>\n",
       "    </tr>\n",
       "    <tr>\n",
       "      <th>comments_disabled</th>\n",
       "      <td>0</td>\n",
       "      <td>0.00</td>\n",
       "    </tr>\n",
       "    <tr>\n",
       "      <th>ratings_disabled</th>\n",
       "      <td>0</td>\n",
       "      <td>0.00</td>\n",
       "    </tr>\n",
       "    <tr>\n",
       "      <th>id</th>\n",
       "      <td>0</td>\n",
       "      <td>0.00</td>\n",
       "    </tr>\n",
       "    <tr>\n",
       "      <th>has_thumbnail</th>\n",
       "      <td>0</td>\n",
       "      <td>0.00</td>\n",
       "    </tr>\n",
       "    <tr>\n",
       "      <th>isTest</th>\n",
       "      <td>0</td>\n",
       "      <td>0.00</td>\n",
       "    </tr>\n",
       "  </tbody>\n",
       "</table>\n",
       "</div>"
      ],
      "text/plain": [
       "                   Row With Missing Value  Percentage (%)\n",
       "description                           409            7.05\n",
       "duration_seconds                       20            0.34\n",
       "video_id                                0            0.00\n",
       "title                                   0            0.00\n",
       "publishedAt                             0            0.00\n",
       "channelId                               0            0.00\n",
       "channelTitle                            0            0.00\n",
       "categoryId                              0            0.00\n",
       "trending_date                           0            0.00\n",
       "tags                                    0            0.00\n",
       "thumbnail_link                          0            0.00\n",
       "comments_disabled                       0            0.00\n",
       "ratings_disabled                        0            0.00\n",
       "id                                      0            0.00\n",
       "has_thumbnail                           0            0.00\n",
       "isTest                                  0            0.00"
      ]
     },
     "execution_count": 11,
     "metadata": {},
     "output_type": "execute_result"
    }
   ],
   "source": [
    "get_missing_value(test)"
   ]
  },
  {
   "cell_type": "code",
   "execution_count": 12,
   "id": "e6523909",
   "metadata": {
    "execution": {
     "iopub.execute_input": "2022-02-12T17:27:56.367550Z",
     "iopub.status.busy": "2022-02-12T17:27:56.366770Z",
     "iopub.status.idle": "2022-02-12T17:27:56.370836Z",
     "shell.execute_reply": "2022-02-12T17:27:56.370427Z",
     "shell.execute_reply.started": "2022-02-12T15:35:46.237158Z"
    },
    "papermill": {
     "duration": 0.048858,
     "end_time": "2022-02-12T17:27:56.370938",
     "exception": false,
     "start_time": "2022-02-12T17:27:56.322080",
     "status": "completed"
    },
    "tags": []
   },
   "outputs": [],
   "source": [
    "#fill missing column with mean (only for numerical columns)\n",
    "train['duration_seconds'].fillna(train['duration_seconds'].mean(), inplace=True)\n",
    "test['duration_seconds'].fillna(test['duration_seconds'].mean(), inplace=True)"
   ]
  },
  {
   "cell_type": "code",
   "execution_count": 13,
   "id": "1cab5250",
   "metadata": {
    "execution": {
     "iopub.execute_input": "2022-02-12T17:27:56.465968Z",
     "iopub.status.busy": "2022-02-12T17:27:56.465136Z",
     "iopub.status.idle": "2022-02-12T17:27:56.793874Z",
     "shell.execute_reply": "2022-02-12T17:27:56.794276Z",
     "shell.execute_reply.started": "2022-02-12T15:35:46.245400Z"
    },
    "papermill": {
     "duration": 0.379295,
     "end_time": "2022-02-12T17:27:56.794425",
     "exception": false,
     "start_time": "2022-02-12T17:27:56.415130",
     "status": "completed"
    },
    "tags": []
   },
   "outputs": [
    {
     "data": {
      "image/png": "[encoded data removed]",
      "text/plain": [
       "<Figure size 432x288 with 1 Axes>"
      ]
     },
     "metadata": {
      "needs_background": "light"
     },
     "output_type": "display_data"
    }
   ],
   "source": [
    "#plotting duration_seconds vs target\n",
    "plt.scatter(train['duration_seconds'],\n",
    "           train['target'])\n",
    "plt.xlabel('duration (seconds)')\n",
    "plt.ylabel('target')\n",
    "plt.show()"
   ]
  },
  {
   "cell_type": "code",
   "execution_count": 14,
   "id": "ceeefb4f",
   "metadata": {
    "execution": {
     "iopub.execute_input": "2022-02-12T17:27:56.882302Z",
     "iopub.status.busy": "2022-02-12T17:27:56.881461Z",
     "iopub.status.idle": "2022-02-12T17:27:56.899866Z",
     "shell.execute_reply": "2022-02-12T17:27:56.899361Z",
     "shell.execute_reply.started": "2022-02-12T15:35:46.597447Z"
    },
    "papermill": {
     "duration": 0.064078,
     "end_time": "2022-02-12T17:27:56.899976",
     "exception": false,
     "start_time": "2022-02-12T17:27:56.835898",
     "status": "completed"
    },
    "tags": []
   },
   "outputs": [],
   "source": [
    "#removing outliers (i assume that duration > 100000 = outliers)\n",
    "train = train[train['duration_seconds']<100000]"
   ]
  },
  {
   "cell_type": "code",
   "execution_count": 15,
   "id": "c94c2fff",
   "metadata": {
    "execution": {
     "iopub.execute_input": "2022-02-12T17:27:57.007774Z",
     "iopub.status.busy": "2022-02-12T17:27:56.997709Z",
     "iopub.status.idle": "2022-02-12T17:27:57.323453Z",
     "shell.execute_reply": "2022-02-12T17:27:57.322726Z",
     "shell.execute_reply.started": "2022-02-12T15:35:46.618971Z"
    },
    "papermill": {
     "duration": 0.381862,
     "end_time": "2022-02-12T17:27:57.323589",
     "exception": false,
     "start_time": "2022-02-12T17:27:56.941727",
     "status": "completed"
    },
    "tags": []
   },
   "outputs": [
    {
     "data": {
      "image/png": "[encoded data removed]",
      "text/plain": [
       "<Figure size 432x288 with 1 Axes>"
      ]
     },
     "metadata": {
      "needs_background": "light"
     },
     "output_type": "display_data"
    }
   ],
   "source": [
    "#plot again duration_seconds vs target\n",
    "plt.scatter(train['duration_seconds'],\n",
    "           train['target'])\n",
    "plt.xlabel('duration (seconds)')\n",
    "plt.ylabel('target')\n",
    "plt.show()"
   ]
  },
  {
   "cell_type": "code",
   "execution_count": 16,
   "id": "386cf7b3",
   "metadata": {
    "execution": {
     "iopub.execute_input": "2022-02-12T17:27:57.429277Z",
     "iopub.status.busy": "2022-02-12T17:27:57.428301Z",
     "iopub.status.idle": "2022-02-12T17:27:57.445694Z",
     "shell.execute_reply": "2022-02-12T17:27:57.446138Z",
     "shell.execute_reply.started": "2022-02-12T15:35:47.228988Z"
    },
    "papermill": {
     "duration": 0.08047,
     "end_time": "2022-02-12T17:27:57.446310",
     "exception": false,
     "start_time": "2022-02-12T17:27:57.365840",
     "status": "completed"
    },
    "tags": []
   },
   "outputs": [],
   "source": [
    "#converting trending_date column type to datetime\n",
    "train['trending_date'] = pd.to_datetime(train['trending_date'],utc=True)\n",
    "test['trending_date'] = pd.to_datetime(test['trending_date'],utc=True)"
   ]
  },
  {
   "cell_type": "code",
   "execution_count": 17,
   "id": "68c3391e",
   "metadata": {
    "execution": {
     "iopub.execute_input": "2022-02-12T17:27:57.541278Z",
     "iopub.status.busy": "2022-02-12T17:27:57.540547Z",
     "iopub.status.idle": "2022-02-12T17:27:57.543339Z",
     "shell.execute_reply": "2022-02-12T17:27:57.543739Z",
     "shell.execute_reply.started": "2022-02-12T15:35:47.264103Z"
    },
    "papermill": {
     "duration": 0.055286,
     "end_time": "2022-02-12T17:27:57.543878",
     "exception": false,
     "start_time": "2022-02-12T17:27:57.488592",
     "status": "completed"
    },
    "tags": []
   },
   "outputs": [
    {
     "data": {
      "text/plain": [
       "(20, 15)"
      ]
     },
     "execution_count": 17,
     "metadata": {},
     "output_type": "execute_result"
    }
   ],
   "source": [
    "#dropping isTest column\n",
    "test.drop('isTest',axis=1,inplace=True)\n",
    "#dropping columns in train that doesnt exist in test\n",
    "#train.drop(['view_count','likes','dislikes','comment_count',],axis=1,inplace=True)\n",
    "#checking columns\n",
    "len(train.columns),len(test.columns)"
   ]
  },
  {
   "cell_type": "code",
   "execution_count": 18,
   "id": "b8e90d61",
   "metadata": {
    "execution": {
     "iopub.execute_input": "2022-02-12T17:27:57.674328Z",
     "iopub.status.busy": "2022-02-12T17:27:57.633897Z",
     "iopub.status.idle": "2022-02-12T17:27:59.957201Z",
     "shell.execute_reply": "2022-02-12T17:27:59.956737Z",
     "shell.execute_reply.started": "2022-02-12T15:35:47.275358Z"
    },
    "papermill": {
     "duration": 2.371242,
     "end_time": "2022-02-12T17:27:59.957332",
     "exception": false,
     "start_time": "2022-02-12T17:27:57.586090",
     "status": "completed"
    },
    "tags": []
   },
   "outputs": [
    {
     "data": {
      "text/plain": [
       "<AxesSubplot:xlabel='days_age', ylabel='target'>"
      ]
     },
     "execution_count": 18,
     "metadata": {},
     "output_type": "execute_result"
    },
    {
     "data": {
      "image/png": "[encoded data removed]",
      "text/plain": [
       "<Figure size 432x288 with 1 Axes>"
      ]
     },
     "metadata": {
      "needs_background": "light"
     },
     "output_type": "display_data"
    }
   ],
   "source": [
    "#checking if video's age affects the target\n",
    "train['days_age']=(train['trending_date'].dt.date - train['publishedAt'].dt.date).dt.days\n",
    "test['days_age']=(test['trending_date'].dt.date - test['publishedAt'].dt.date).dt.days\n",
    "\n",
    "#plotting videos age vs target\n",
    "sns.lineplot(train['days_age'],\n",
    "           train['target'])"
   ]
  },
  {
   "cell_type": "markdown",
   "id": "3102b4a1",
   "metadata": {
    "papermill": {
     "duration": 0.04565,
     "end_time": "2022-02-12T17:28:00.048075",
     "exception": false,
     "start_time": "2022-02-12T17:28:00.002425",
     "status": "completed"
    },
    "tags": []
   },
   "source": [
    "as you can see that new released video has more high target than old video"
   ]
  },
  {
   "cell_type": "code",
   "execution_count": 19,
   "id": "f3ccb771",
   "metadata": {
    "execution": {
     "iopub.execute_input": "2022-02-12T17:28:00.163213Z",
     "iopub.status.busy": "2022-02-12T17:28:00.162501Z",
     "iopub.status.idle": "2022-02-12T17:28:01.426651Z",
     "shell.execute_reply": "2022-02-12T17:28:01.427410Z",
     "shell.execute_reply.started": "2022-02-12T15:35:49.790799Z"
    },
    "papermill": {
     "duration": 1.327667,
     "end_time": "2022-02-12T17:28:01.427569",
     "exception": false,
     "start_time": "2022-02-12T17:28:00.099902",
     "status": "completed"
    },
    "tags": []
   },
   "outputs": [
    {
     "data": {
      "text/plain": [
       "<AxesSubplot:xlabel='trend_dow', ylabel='target'>"
      ]
     },
     "execution_count": 19,
     "metadata": {},
     "output_type": "execute_result"
    },
    {
     "data": {
      "image/png": "[encoded data removed]",
      "text/plain": [
       "<Figure size 432x288 with 1 Axes>"
      ]
     },
     "metadata": {
      "needs_background": "light"
     },
     "output_type": "display_data"
    }
   ],
   "source": [
    "#checking if the trending day affects the target\n",
    "train['trend_dow'] = train.trending_date.dt.dayofweek\n",
    "test['trend_dow'] = test.trending_date.dt.dayofweek\n",
    "\n",
    "sns.lineplot(train['trend_dow'],\n",
    "           train['target'])"
   ]
  },
  {
   "cell_type": "code",
   "execution_count": 20,
   "id": "f264dc7a",
   "metadata": {
    "execution": {
     "iopub.execute_input": "2022-02-12T17:28:01.533368Z",
     "iopub.status.busy": "2022-02-12T17:28:01.532659Z",
     "iopub.status.idle": "2022-02-12T17:28:03.248726Z",
     "shell.execute_reply": "2022-02-12T17:28:03.249308Z",
     "shell.execute_reply.started": "2022-02-12T15:35:51.164074Z"
    },
    "papermill": {
     "duration": 1.76677,
     "end_time": "2022-02-12T17:28:03.249460",
     "exception": false,
     "start_time": "2022-02-12T17:28:01.482690",
     "status": "completed"
    },
    "tags": []
   },
   "outputs": [
    {
     "data": {
      "text/plain": [
       "<AxesSubplot:xlabel='pub_dow', ylabel='target'>"
      ]
     },
     "execution_count": 20,
     "metadata": {},
     "output_type": "execute_result"
    },
    {
     "data": {
      "image/png": "[encoded data removed]",
      "text/plain": [
       "<Figure size 432x288 with 1 Axes>"
      ]
     },
     "metadata": {
      "needs_background": "light"
     },
     "output_type": "display_data"
    }
   ],
   "source": [
    "#and also published day\n",
    "train['pub_dow'] = train.publishedAt.dt.dayofweek\n",
    "test['pub_dow'] = test.publishedAt.dt.dayofweek\n",
    "\n",
    "sns.lineplot(train['pub_dow'],\n",
    "           train['target'])"
   ]
  },
  {
   "cell_type": "markdown",
   "id": "a1b288ef",
   "metadata": {
    "papermill": {
     "duration": 0.045951,
     "end_time": "2022-02-12T17:28:03.342092",
     "exception": false,
     "start_time": "2022-02-12T17:28:03.296141",
     "status": "completed"
    },
    "tags": []
   },
   "source": [
    "desc : 0=Monday,1=Tuesday,2=Wednesday,3=Thrusday,4=Friday,5=Saturday,6=Sunday\n",
    "conclu : day of week of trending dan published video affects target"
   ]
  },
  {
   "cell_type": "code",
   "execution_count": 21,
   "id": "7f702f7a",
   "metadata": {
    "execution": {
     "iopub.execute_input": "2022-02-12T17:28:03.439840Z",
     "iopub.status.busy": "2022-02-12T17:28:03.437354Z",
     "iopub.status.idle": "2022-02-12T17:28:05.380712Z",
     "shell.execute_reply": "2022-02-12T17:28:05.381105Z",
     "shell.execute_reply.started": "2022-02-12T15:35:52.462948Z"
    },
    "papermill": {
     "duration": 1.99337,
     "end_time": "2022-02-12T17:28:05.381258",
     "exception": false,
     "start_time": "2022-02-12T17:28:03.387888",
     "status": "completed"
    },
    "tags": []
   },
   "outputs": [
    {
     "data": {
      "text/plain": [
       "<AxesSubplot:xlabel='pub_hour', ylabel='target'>"
      ]
     },
     "execution_count": 21,
     "metadata": {},
     "output_type": "execute_result"
    },
    {
     "data": {
      "image/png": "[encoded data removed]",
      "text/plain": [
       "<Figure size 432x288 with 1 Axes>"
      ]
     },
     "metadata": {
      "needs_background": "light"
     },
     "output_type": "display_data"
    }
   ],
   "source": [
    "#checking if published hour affects target\n",
    "train['pub_hour'] = train.publishedAt.dt.hour\n",
    "test['pub_hour'] = test.publishedAt.dt.hour\n",
    "\n",
    "sns.lineplot(train['pub_hour'],\n",
    "           train['target'])"
   ]
  },
  {
   "cell_type": "code",
   "execution_count": 22,
   "id": "509090f3",
   "metadata": {
    "execution": {
     "iopub.execute_input": "2022-02-12T17:28:05.505251Z",
     "iopub.status.busy": "2022-02-12T17:28:05.491956Z",
     "iopub.status.idle": "2022-02-12T17:28:07.806239Z",
     "shell.execute_reply": "2022-02-12T17:28:07.805741Z",
     "shell.execute_reply.started": "2022-02-12T15:35:54.181364Z"
    },
    "papermill": {
     "duration": 2.377685,
     "end_time": "2022-02-12T17:28:07.806374",
     "exception": false,
     "start_time": "2022-02-12T17:28:05.428689",
     "status": "completed"
    },
    "tags": []
   },
   "outputs": [
    {
     "data": {
      "text/plain": [
       "(array([ 0,  1,  2,  3,  4,  5,  6,  7,  8,  9, 10, 11, 12, 13, 14, 15, 16,\n",
       "        17, 18, 19, 20, 21, 22, 23, 24, 25, 26, 27, 28, 29, 30]),\n",
       " [Text(0, 0, '0.0'),\n",
       "  Text(1, 0, '1.0'),\n",
       "  Text(2, 0, '2.0'),\n",
       "  Text(3, 0, '3.0'),\n",
       "  Text(4, 0, '4.0'),\n",
       "  Text(5, 0, '5.0'),\n",
       "  Text(6, 0, '6.0'),\n",
       "  Text(7, 0, '7.0'),\n",
       "  Text(8, 0, '8.0'),\n",
       "  Text(9, 0, '9.0'),\n",
       "  Text(10, 0, '10.0'),\n",
       "  Text(11, 0, '11.0'),\n",
       "  Text(12, 0, '12.0'),\n",
       "  Text(13, 0, '13.0'),\n",
       "  Text(14, 0, '14.0'),\n",
       "  Text(15, 0, '15.0'),\n",
       "  Text(16, 0, '16.0'),\n",
       "  Text(17, 0, '17.0'),\n",
       "  Text(18, 0, '18.0'),\n",
       "  Text(19, 0, '19.0'),\n",
       "  Text(20, 0, '20.0'),\n",
       "  Text(21, 0, '21.0'),\n",
       "  Text(22, 0, '23.0'),\n",
       "  Text(23, 0, '27.0'),\n",
       "  Text(24, 0, '29.0'),\n",
       "  Text(25, 0, '31.0'),\n",
       "  Text(26, 0, '39.0'),\n",
       "  Text(27, 0, '41.0'),\n",
       "  Text(28, 0, '42.0'),\n",
       "  Text(29, 0, '43.0'),\n",
       "  Text(30, 0, '121.0')])"
      ]
     },
     "execution_count": 22,
     "metadata": {},
     "output_type": "execute_result"
    },
    {
     "data": {
      "image/png": "[encoded data removed]",
      "text/plain": [
       "<Figure size 842.4x307.44 with 1 Axes>"
      ]
     },
     "metadata": {},
     "output_type": "display_data"
    }
   ],
   "source": [
    "#checking if hashtag in title affects target\n",
    "train['hashtag_sum'] = train['description'].str.count('#')\n",
    "train['hashtag_sum'] = train['hashtag_sum'].fillna(0)\n",
    "\n",
    "test['hashtag_sum'] = test['description'].str.count('#')\n",
    "test['hashtag_sum'] = test['hashtag_sum'].fillna(0)\n",
    "\n",
    "sns.set(rc={'figure.figsize':(11.7,4.27)})\n",
    "sns.pointplot(train['hashtag_sum'],\n",
    "           train['target'])\n",
    "plt.xticks(rotation=90)"
   ]
  },
  {
   "cell_type": "code",
   "execution_count": 23,
   "id": "a954b831",
   "metadata": {
    "execution": {
     "iopub.execute_input": "2022-02-12T17:28:07.919656Z",
     "iopub.status.busy": "2022-02-12T17:28:07.918847Z",
     "iopub.status.idle": "2022-02-12T17:28:10.492231Z",
     "shell.execute_reply": "2022-02-12T17:28:10.492662Z",
     "shell.execute_reply.started": "2022-02-12T15:35:57.408353Z"
    },
    "papermill": {
     "duration": 2.637539,
     "end_time": "2022-02-12T17:28:10.492819",
     "exception": false,
     "start_time": "2022-02-12T17:28:07.855280",
     "status": "completed"
    },
    "tags": []
   },
   "outputs": [
    {
     "data": {
      "text/plain": [
       "(array([ 0,  1,  2,  3,  4,  5,  6,  7,  8,  9, 10, 11, 12, 13, 14, 15, 16,\n",
       "        17, 18, 19, 20, 21, 22, 23, 24, 25, 26, 27, 28, 29, 30, 31, 32, 33,\n",
       "        34, 35, 36, 37, 38]),\n",
       " [Text(0, 0, '0.0'),\n",
       "  Text(1, 0, '1.0'),\n",
       "  Text(2, 0, '2.0'),\n",
       "  Text(3, 0, '3.0'),\n",
       "  Text(4, 0, '4.0'),\n",
       "  Text(5, 0, '5.0'),\n",
       "  Text(6, 0, '6.0'),\n",
       "  Text(7, 0, '7.0'),\n",
       "  Text(8, 0, '8.0'),\n",
       "  Text(9, 0, '9.0'),\n",
       "  Text(10, 0, '10.0'),\n",
       "  Text(11, 0, '11.0'),\n",
       "  Text(12, 0, '12.0'),\n",
       "  Text(13, 0, '13.0'),\n",
       "  Text(14, 0, '14.0'),\n",
       "  Text(15, 0, '15.0'),\n",
       "  Text(16, 0, '16.0'),\n",
       "  Text(17, 0, '17.0'),\n",
       "  Text(18, 0, '18.0'),\n",
       "  Text(19, 0, '19.0'),\n",
       "  Text(20, 0, '20.0'),\n",
       "  Text(21, 0, '21.0'),\n",
       "  Text(22, 0, '22.0'),\n",
       "  Text(23, 0, '23.0'),\n",
       "  Text(24, 0, '24.0'),\n",
       "  Text(25, 0, '25.0'),\n",
       "  Text(26, 0, '26.0'),\n",
       "  Text(27, 0, '27.0'),\n",
       "  Text(28, 0, '29.0'),\n",
       "  Text(29, 0, '31.0'),\n",
       "  Text(30, 0, '32.0'),\n",
       "  Text(31, 0, '33.0'),\n",
       "  Text(32, 0, '36.0'),\n",
       "  Text(33, 0, '38.0'),\n",
       "  Text(34, 0, '39.0'),\n",
       "  Text(35, 0, '41.0'),\n",
       "  Text(36, 0, '42.0'),\n",
       "  Text(37, 0, '43.0'),\n",
       "  Text(38, 0, '58.0')])"
      ]
     },
     "execution_count": 23,
     "metadata": {},
     "output_type": "execute_result"
    },
    {
     "data": {
      "image/png": "[encoded data removed]",
      "text/plain": [
       "<Figure size 842.4x307.44 with 1 Axes>"
      ]
     },
     "metadata": {},
     "output_type": "display_data"
    }
   ],
   "source": [
    "#checking if ! in title affects target\n",
    "train['exclamation_sum'] = train['description'].str.count('!')\n",
    "train['exclamation_sum'] = train['exclamation_sum'].fillna(0)\n",
    "\n",
    "test['exclamation_sum'] = test['description'].str.count('!')\n",
    "test['exclamation_sum'] = test['exclamation_sum'].fillna(0)\n",
    "\n",
    "sns.set(rc={'figure.figsize':(11.7,4.27)})\n",
    "sns.pointplot(train['exclamation_sum'],\n",
    "           train['target'])\n",
    "plt.xticks(rotation=90)"
   ]
  },
  {
   "cell_type": "code",
   "execution_count": 24,
   "id": "715fb14c",
   "metadata": {
    "execution": {
     "iopub.execute_input": "2022-02-12T17:28:10.621292Z",
     "iopub.status.busy": "2022-02-12T17:28:10.620445Z",
     "iopub.status.idle": "2022-02-12T17:29:39.602049Z",
     "shell.execute_reply": "2022-02-12T17:29:39.602474Z",
     "shell.execute_reply.started": "2022-02-12T15:35:59.898997Z"
    },
    "papermill": {
     "duration": 89.05886,
     "end_time": "2022-02-12T17:29:39.602625",
     "exception": false,
     "start_time": "2022-02-12T17:28:10.543765",
     "status": "completed"
    },
    "tags": []
   },
   "outputs": [
    {
     "data": {
      "text/plain": [
       "<AxesSubplot:xlabel='desc_len', ylabel='target'>"
      ]
     },
     "execution_count": 24,
     "metadata": {},
     "output_type": "execute_result"
    },
    {
     "data": {
      "image/png": "[encoded data removed]",
      "text/plain": [
       "<Figure size 842.4x307.44 with 1 Axes>"
      ]
     },
     "metadata": {},
     "output_type": "display_data"
    }
   ],
   "source": [
    "#checking if description length affect target\n",
    "train['desc_len'] = train['description'].str.len()\n",
    "train['desc_len'] = train['desc_len'].fillna(0)\n",
    "\n",
    "test['desc_len'] = test['description'].str.len()\n",
    "test['desc_len'] = test['desc_len'].fillna(0)\n",
    "\n",
    "sns.set(rc={'figure.figsize':(11.7,4.27)})\n",
    "sns.lineplot(train['desc_len'],\n",
    "           train['target'])"
   ]
  },
  {
   "cell_type": "code",
   "execution_count": 25,
   "id": "96b40234",
   "metadata": {
    "execution": {
     "iopub.execute_input": "2022-02-12T17:29:39.711232Z",
     "iopub.status.busy": "2022-02-12T17:29:39.710386Z",
     "iopub.status.idle": "2022-02-12T17:29:44.674051Z",
     "shell.execute_reply": "2022-02-12T17:29:44.674505Z",
     "shell.execute_reply.started": "2022-02-12T15:37:29.764884Z"
    },
    "papermill": {
     "duration": 5.019526,
     "end_time": "2022-02-12T17:29:44.674649",
     "exception": false,
     "start_time": "2022-02-12T17:29:39.655123",
     "status": "completed"
    },
    "tags": []
   },
   "outputs": [
    {
     "data": {
      "text/plain": [
       "(array([ 0,  1,  2,  3,  4,  5,  6,  7,  8,  9, 10, 11, 12, 13, 14, 15, 16,\n",
       "        17, 18, 19, 20, 21, 22, 23, 24, 25, 26, 27, 28, 29, 30, 31, 32, 33,\n",
       "        34, 35, 36, 37, 38, 39, 40, 41, 42, 43, 44, 45, 46, 47, 48, 49, 50,\n",
       "        51, 52, 53, 54, 55, 56, 57, 58, 59, 60, 61, 62, 63, 64, 65, 66, 67,\n",
       "        68, 69]),\n",
       " [Text(0, 0, '1'),\n",
       "  Text(1, 0, '2'),\n",
       "  Text(2, 0, '3'),\n",
       "  Text(3, 0, '4'),\n",
       "  Text(4, 0, '5'),\n",
       "  Text(5, 0, '6'),\n",
       "  Text(6, 0, '7'),\n",
       "  Text(7, 0, '8'),\n",
       "  Text(8, 0, '9'),\n",
       "  Text(9, 0, '10'),\n",
       "  Text(10, 0, '11'),\n",
       "  Text(11, 0, '12'),\n",
       "  Text(12, 0, '13'),\n",
       "  Text(13, 0, '14'),\n",
       "  Text(14, 0, '15'),\n",
       "  Text(15, 0, '16'),\n",
       "  Text(16, 0, '17'),\n",
       "  Text(17, 0, '18'),\n",
       "  Text(18, 0, '19'),\n",
       "  Text(19, 0, '20'),\n",
       "  Text(20, 0, '21'),\n",
       "  Text(21, 0, '22'),\n",
       "  Text(22, 0, '23'),\n",
       "  Text(23, 0, '24'),\n",
       "  Text(24, 0, '25'),\n",
       "  Text(25, 0, '26'),\n",
       "  Text(26, 0, '27'),\n",
       "  Text(27, 0, '28'),\n",
       "  Text(28, 0, '29'),\n",
       "  Text(29, 0, '30'),\n",
       "  Text(30, 0, '31'),\n",
       "  Text(31, 0, '32'),\n",
       "  Text(32, 0, '33'),\n",
       "  Text(33, 0, '34'),\n",
       "  Text(34, 0, '35'),\n",
       "  Text(35, 0, '36'),\n",
       "  Text(36, 0, '37'),\n",
       "  Text(37, 0, '38'),\n",
       "  Text(38, 0, '39'),\n",
       "  Text(39, 0, '40'),\n",
       "  Text(40, 0, '41'),\n",
       "  Text(41, 0, '42'),\n",
       "  Text(42, 0, '43'),\n",
       "  Text(43, 0, '44'),\n",
       "  Text(44, 0, '45'),\n",
       "  Text(45, 0, '46'),\n",
       "  Text(46, 0, '47'),\n",
       "  Text(47, 0, '48'),\n",
       "  Text(48, 0, '49'),\n",
       "  Text(49, 0, '50'),\n",
       "  Text(50, 0, '51'),\n",
       "  Text(51, 0, '52'),\n",
       "  Text(52, 0, '53'),\n",
       "  Text(53, 0, '54'),\n",
       "  Text(54, 0, '55'),\n",
       "  Text(55, 0, '56'),\n",
       "  Text(56, 0, '57'),\n",
       "  Text(57, 0, '58'),\n",
       "  Text(58, 0, '59'),\n",
       "  Text(59, 0, '60'),\n",
       "  Text(60, 0, '61'),\n",
       "  Text(61, 0, '62'),\n",
       "  Text(62, 0, '63'),\n",
       "  Text(63, 0, '64'),\n",
       "  Text(64, 0, '65'),\n",
       "  Text(65, 0, '66'),\n",
       "  Text(66, 0, '67'),\n",
       "  Text(67, 0, '70'),\n",
       "  Text(68, 0, '72'),\n",
       "  Text(69, 0, '74')])"
      ]
     },
     "execution_count": 25,
     "metadata": {},
     "output_type": "execute_result"
    },
    {
     "data": {
      "image/png": "[encoded data removed]",
      "text/plain": [
       "<Figure size 842.4x307.44 with 1 Axes>"
      ]
     },
     "metadata": {},
     "output_type": "display_data"
    }
   ],
   "source": [
    "#checking if tags affects target\n",
    "train['tag_count'] = train['tags'].apply(lambda x: len(x.split('|')))\n",
    "train['tag_count'] = train['tag_count'].fillna(0)\n",
    "\n",
    "test['tag_count'] = test['tags'].apply(lambda x: len(x.split('|')))\n",
    "test['tag_count'] = test['tag_count'].fillna(0)\n",
    "\n",
    "sns.set(rc={'figure.figsize':(11.7,4.27)})\n",
    "sns.pointplot(train['tag_count'],\n",
    "           train['target'])\n",
    "plt.xticks(rotation=90)"
   ]
  },
  {
   "cell_type": "code",
   "execution_count": 26,
   "id": "3eb54162",
   "metadata": {
    "execution": {
     "iopub.execute_input": "2022-02-12T17:29:44.795351Z",
     "iopub.status.busy": "2022-02-12T17:29:44.794484Z",
     "iopub.status.idle": "2022-02-12T17:29:49.672078Z",
     "shell.execute_reply": "2022-02-12T17:29:49.671507Z",
     "shell.execute_reply.started": "2022-02-12T15:37:34.691254Z"
    },
    "papermill": {
     "duration": 4.942933,
     "end_time": "2022-02-12T17:29:49.672233",
     "exception": false,
     "start_time": "2022-02-12T17:29:44.729300",
     "status": "completed"
    },
    "tags": []
   },
   "outputs": [],
   "source": [
    "#checking if language in tags affects target\n",
    "import regex\n",
    "\n",
    "#korean language\n",
    "def is_hangul(value):\n",
    "    if regex.search(r'\\p{IsHangul}', value):\n",
    "        return True\n",
    "    return False\n",
    "train['tags_korean'] = [is_hangul(a)*1 for a in train.tags]\n",
    "test['tags_korean'] = [is_hangul(a)*1 for a in test.tags]\n",
    "\n",
    "#japanese language\n",
    "def is_japanese(value):\n",
    "    if regex.search(r'[\\p{Hiragana}\\p{Katakana}\\p{Han}]', value):\n",
    "        return True\n",
    "    return False\n",
    "train['tags_japanese'] = [is_japanese(a)*1 for a in train.tags]\n",
    "test['tags_japanese'] = [is_japanese(a)*1 for a in test.tags]\n",
    "\n",
    "#russian language\n",
    "def is_russian(value):\n",
    "    if regex.search(r'[а-яА-Я]', value):\n",
    "        return True\n",
    "    return False\n",
    "train['tags_russian'] = [is_russian(a)*1 for a in train.tags]\n",
    "test['tags_russian'] = [is_russian(a)*1 for a in test.tags]\n",
    "\n",
    "#arabian language\n",
    "def is_arab(value):\n",
    "    if regex.search(r'[ا-ي]', value):\n",
    "        return True\n",
    "    return False\n",
    "train['tags_arab'] = [is_arab(a)*1 for a in train.tags]\n",
    "test['tags_arab'] = [is_arab(a)*1 for a in test.tags]\n",
    "\n",
    "#mandarin language\n",
    "def is_mandarin(value):\n",
    "    if regex.search(r'[\\u4e00-\\u9fff]+', value):\n",
    "        return True\n",
    "    return False\n",
    "train['tags_mandarin'] = [is_mandarin(a)*1 for a in train.tags]\n",
    "test['tags_mandarin'] = [is_mandarin(a)*1 for a in test.tags]\n",
    "\n",
    "#hindi language\n",
    "def is_hindi(value):\n",
    "    if regex.search(r'[^(^a-zA-Z-0-9)]+\\d+', value):\n",
    "        return True\n",
    "    return False\n",
    "train['tags_indi'] = [is_hindi(a)*1 for a in train.tags]\n",
    "test['tags_indi'] = [is_hindi(a)*1 for a in test.tags]"
   ]
  },
  {
   "cell_type": "code",
   "execution_count": 27,
   "id": "c7e00f7f",
   "metadata": {
    "execution": {
     "iopub.execute_input": "2022-02-12T17:29:49.790011Z",
     "iopub.status.busy": "2022-02-12T17:29:49.789451Z",
     "iopub.status.idle": "2022-02-12T17:29:55.839801Z",
     "shell.execute_reply": "2022-02-12T17:29:55.840222Z",
     "shell.execute_reply.started": "2022-02-12T15:37:39.921827Z"
    },
    "papermill": {
     "duration": 6.114086,
     "end_time": "2022-02-12T17:29:55.840383",
     "exception": false,
     "start_time": "2022-02-12T17:29:49.726297",
     "status": "completed"
    },
    "tags": []
   },
   "outputs": [
    {
     "data": {
      "text/plain": [
       "Text(0.5, 0, '0=no 1=yes')"
      ]
     },
     "execution_count": 27,
     "metadata": {},
     "output_type": "execute_result"
    },
    {
     "data": {
      "image/png": "[encoded data removed]",
      "text/plain": [
       "<Figure size 504x504 with 1 Axes>"
      ]
     },
     "metadata": {},
     "output_type": "display_data"
    }
   ],
   "source": [
    "sns.set(rc={'figure.figsize':(7,7)})\n",
    "sns.pointplot(train['tags_korean'],\n",
    "           train['target'],\n",
    "              labels='korean')\n",
    "plt.xticks(rotation=90)\n",
    "\n",
    "sns.pointplot(train['tags_japanese'],\n",
    "           train['target'],\n",
    "           color='red',\n",
    "              labels='japan')\n",
    "\n",
    "sns.pointplot(train['tags_arab'],\n",
    "           train['target'],\n",
    "           color='red',\n",
    "              labels='arab')\n",
    "\n",
    "sns.pointplot(train['tags_russian'],\n",
    "           train['target'],\n",
    "           color='pink',\n",
    "              labels='russia')\n",
    "\n",
    "sns.pointplot(train['tags_mandarin'],\n",
    "           train['target'],\n",
    "           color='purple',\n",
    "              labels='mandarin')\n",
    "\n",
    "sns.pointplot(train['tags_indi'],\n",
    "           train['target'],\n",
    "           color='black',\n",
    "              labels='hindi')\n",
    "\n",
    "plt.xlabel('0=no 1=yes')"
   ]
  },
  {
   "cell_type": "code",
   "execution_count": 28,
   "id": "a5811c59",
   "metadata": {
    "execution": {
     "iopub.execute_input": "2022-02-12T17:29:55.960693Z",
     "iopub.status.busy": "2022-02-12T17:29:55.959888Z",
     "iopub.status.idle": "2022-02-12T17:29:56.036739Z",
     "shell.execute_reply": "2022-02-12T17:29:56.036296Z",
     "shell.execute_reply.started": "2022-02-12T15:37:45.911848Z"
    },
    "papermill": {
     "duration": 0.141403,
     "end_time": "2022-02-12T17:29:56.036862",
     "exception": false,
     "start_time": "2022-02-12T17:29:55.895459",
     "status": "completed"
    },
    "tags": []
   },
   "outputs": [],
   "source": [
    "#because test dataset doesn't has 'likes', 'dislikes', 'view count', 'comment count' and 'target'\n",
    "#we must assuming them as the mean of column in test dataset before we delete these columns\n",
    "\n",
    "comment_grp_channel = train.groupby('channelId')['comment_count'].mean()\n",
    "comment_grp_cat = train.groupby('categoryId')['comment_count'].mean()\n",
    "\n",
    "target_grp_channel = train.groupby('channelId')['target'].mean()\n",
    "target_grp_cat = train.groupby('categoryId')['target'].mean()\n",
    "\n",
    "view_grp_channel = train.groupby('channelId')['view_count'].mean()\n",
    "view_grp_cat = train.groupby('categoryId')['view_count'].mean()\n",
    "\n",
    "likes_grp_channel = train.groupby('channelId')['likes'].mean()\n",
    "likes_grp_cat = train.groupby('categoryId')['likes'].mean()\n",
    "\n",
    "dislikes_grp_channel = train.groupby('channelId')['dislikes'].mean()\n",
    "dislikes_grp_cat = train.groupby('categoryId')['dislikes'].mean()"
   ]
  },
  {
   "cell_type": "code",
   "execution_count": 29,
   "id": "7c66ca4d",
   "metadata": {
    "execution": {
     "iopub.execute_input": "2022-02-12T17:29:56.153612Z",
     "iopub.status.busy": "2022-02-12T17:29:56.152805Z",
     "iopub.status.idle": "2022-02-12T17:29:56.155527Z",
     "shell.execute_reply": "2022-02-12T17:29:56.155916Z",
     "shell.execute_reply.started": "2022-02-12T15:37:45.997622Z"
    },
    "papermill": {
     "duration": 0.063746,
     "end_time": "2022-02-12T17:29:56.156072",
     "exception": false,
     "start_time": "2022-02-12T17:29:56.092326",
     "status": "completed"
    },
    "tags": []
   },
   "outputs": [
    {
     "data": {
      "text/plain": [
       "15"
      ]
     },
     "execution_count": 29,
     "metadata": {},
     "output_type": "execute_result"
    }
   ],
   "source": [
    "len(comment_grp_cat.index.unique())"
   ]
  },
  {
   "cell_type": "code",
   "execution_count": 30,
   "id": "95d49fe8",
   "metadata": {
    "execution": {
     "iopub.execute_input": "2022-02-12T17:29:56.279694Z",
     "iopub.status.busy": "2022-02-12T17:29:56.278122Z",
     "iopub.status.idle": "2022-02-12T17:29:56.282035Z",
     "shell.execute_reply": "2022-02-12T17:29:56.281533Z",
     "shell.execute_reply.started": "2022-02-12T15:37:46.007112Z"
    },
    "papermill": {
     "duration": 0.070886,
     "end_time": "2022-02-12T17:29:56.282169",
     "exception": false,
     "start_time": "2022-02-12T17:29:56.211283",
     "status": "completed"
    },
    "tags": []
   },
   "outputs": [
    {
     "data": {
      "text/plain": [
       "13"
      ]
     },
     "execution_count": 30,
     "metadata": {},
     "output_type": "execute_result"
    }
   ],
   "source": [
    "len(test.categoryId.unique())"
   ]
  },
  {
   "cell_type": "code",
   "execution_count": 31,
   "id": "e093e387",
   "metadata": {
    "execution": {
     "iopub.execute_input": "2022-02-12T17:29:56.419291Z",
     "iopub.status.busy": "2022-02-12T17:29:56.411286Z",
     "iopub.status.idle": "2022-02-12T17:29:56.469215Z",
     "shell.execute_reply": "2022-02-12T17:29:56.468715Z",
     "shell.execute_reply.started": "2022-02-12T15:37:46.015746Z"
    },
    "papermill": {
     "duration": 0.124672,
     "end_time": "2022-02-12T17:29:56.469343",
     "exception": false,
     "start_time": "2022-02-12T17:29:56.344671",
     "status": "completed"
    },
    "tags": []
   },
   "outputs": [],
   "source": [
    "#apply prior code to test and train dataset\n",
    "def column_manipulation(df) :\n",
    "    df['comment_grp_channel']=df['channelId'].map(comment_grp_channel)\n",
    "    df['comment_grp_cat']=df['categoryId'].map(comment_grp_cat)\n",
    "    \n",
    "    df['target_grp_channel']=df['channelId'].map(target_grp_channel)\n",
    "    df['target_grp_cat']=df['categoryId'].map(target_grp_cat)\n",
    "    \n",
    "    df['view_grp_channel']=df['channelId'].map(view_grp_channel)\n",
    "    df['view_grp_cat']=df['categoryId'].map(view_grp_cat)\n",
    "    \n",
    "    df['likes_grp_channel']=df['channelId'].map(likes_grp_channel)\n",
    "    df['likes_grp_cat']=df['categoryId'].map(likes_grp_cat)\n",
    "    \n",
    "    df['dislikes_grp_channel']=df['channelId'].map(dislikes_grp_channel)\n",
    "    df['dislikes_grp_cat']=df['categoryId'].map(dislikes_grp_cat)\n",
    "    \n",
    "#apply\n",
    "column_manipulation(train)\n",
    "column_manipulation(test)"
   ]
  },
  {
   "cell_type": "code",
   "execution_count": 32,
   "id": "f1ef7126",
   "metadata": {
    "execution": {
     "iopub.execute_input": "2022-02-12T17:29:56.587571Z",
     "iopub.status.busy": "2022-02-12T17:29:56.586751Z",
     "iopub.status.idle": "2022-02-12T17:29:56.589482Z",
     "shell.execute_reply": "2022-02-12T17:29:56.589882Z",
     "shell.execute_reply.started": "2022-02-12T15:37:46.081857Z"
    },
    "papermill": {
     "duration": 0.063955,
     "end_time": "2022-02-12T17:29:56.590023",
     "exception": false,
     "start_time": "2022-02-12T17:29:56.526068",
     "status": "completed"
    },
    "tags": []
   },
   "outputs": [
    {
     "data": {
      "text/plain": [
       "(Index(['video_id', 'title', 'publishedAt', 'channelId', 'channelTitle',\n",
       "        'categoryId', 'trending_date', 'tags', 'view_count', 'likes',\n",
       "        'dislikes', 'comment_count', 'thumbnail_link', 'comments_disabled',\n",
       "        'ratings_disabled', 'description', 'id', 'duration_seconds',\n",
       "        'has_thumbnail', 'target', 'days_age', 'trend_dow', 'pub_dow',\n",
       "        'pub_hour', 'hashtag_sum', 'exclamation_sum', 'desc_len', 'tag_count',\n",
       "        'tags_korean', 'tags_japanese', 'tags_russian', 'tags_arab',\n",
       "        'tags_mandarin', 'tags_indi', 'comment_grp_channel', 'comment_grp_cat',\n",
       "        'target_grp_channel', 'target_grp_cat', 'view_grp_channel',\n",
       "        'view_grp_cat', 'likes_grp_channel', 'likes_grp_cat',\n",
       "        'dislikes_grp_channel', 'dislikes_grp_cat'],\n",
       "       dtype='object'),\n",
       " 44)"
      ]
     },
     "execution_count": 32,
     "metadata": {},
     "output_type": "execute_result"
    }
   ],
   "source": [
    "train.columns,len(train.columns)"
   ]
  },
  {
   "cell_type": "code",
   "execution_count": 33,
   "id": "d7ea78aa",
   "metadata": {
    "execution": {
     "iopub.execute_input": "2022-02-12T17:29:56.704522Z",
     "iopub.status.busy": "2022-02-12T17:29:56.703983Z",
     "iopub.status.idle": "2022-02-12T17:29:56.709305Z",
     "shell.execute_reply": "2022-02-12T17:29:56.708783Z",
     "shell.execute_reply.started": "2022-02-12T15:37:46.090518Z"
    },
    "papermill": {
     "duration": 0.06453,
     "end_time": "2022-02-12T17:29:56.709424",
     "exception": false,
     "start_time": "2022-02-12T17:29:56.644894",
     "status": "completed"
    },
    "tags": []
   },
   "outputs": [
    {
     "data": {
      "text/plain": [
       "(Index(['video_id', 'title', 'publishedAt', 'channelId', 'channelTitle',\n",
       "        'categoryId', 'trending_date', 'tags', 'thumbnail_link',\n",
       "        'comments_disabled', 'ratings_disabled', 'description', 'id',\n",
       "        'duration_seconds', 'has_thumbnail', 'days_age', 'trend_dow', 'pub_dow',\n",
       "        'pub_hour', 'hashtag_sum', 'exclamation_sum', 'desc_len', 'tag_count',\n",
       "        'tags_korean', 'tags_japanese', 'tags_russian', 'tags_arab',\n",
       "        'tags_mandarin', 'tags_indi', 'comment_grp_channel', 'comment_grp_cat',\n",
       "        'target_grp_channel', 'target_grp_cat', 'view_grp_channel',\n",
       "        'view_grp_cat', 'likes_grp_channel', 'likes_grp_cat',\n",
       "        'dislikes_grp_channel', 'dislikes_grp_cat'],\n",
       "       dtype='object'),\n",
       " 39)"
      ]
     },
     "execution_count": 33,
     "metadata": {},
     "output_type": "execute_result"
    }
   ],
   "source": [
    "test.columns,len(test.columns)"
   ]
  },
  {
   "cell_type": "code",
   "execution_count": 34,
   "id": "01607532",
   "metadata": {
    "execution": {
     "iopub.execute_input": "2022-02-12T17:29:56.828545Z",
     "iopub.status.busy": "2022-02-12T17:29:56.827854Z",
     "iopub.status.idle": "2022-02-12T17:29:56.830586Z",
     "shell.execute_reply": "2022-02-12T17:29:56.831150Z",
     "shell.execute_reply.started": "2022-02-12T15:37:46.101220Z"
    },
    "papermill": {
     "duration": 0.064782,
     "end_time": "2022-02-12T17:29:56.831339",
     "exception": false,
     "start_time": "2022-02-12T17:29:56.766557",
     "status": "completed"
    },
    "tags": []
   },
   "outputs": [
    {
     "data": {
      "text/plain": [
       "((92253, 44), (5800, 39))"
      ]
     },
     "execution_count": 34,
     "metadata": {},
     "output_type": "execute_result"
    }
   ],
   "source": [
    "train.shape,test.shape"
   ]
  },
  {
   "cell_type": "code",
   "execution_count": 35,
   "id": "78eae036",
   "metadata": {
    "execution": {
     "iopub.execute_input": "2022-02-12T17:29:57.016846Z",
     "iopub.status.busy": "2022-02-12T17:29:57.015904Z",
     "iopub.status.idle": "2022-02-12T17:29:57.043109Z",
     "shell.execute_reply": "2022-02-12T17:29:57.042647Z",
     "shell.execute_reply.started": "2022-02-12T15:37:46.110498Z"
    },
    "papermill": {
     "duration": 0.155758,
     "end_time": "2022-02-12T17:29:57.043231",
     "exception": false,
     "start_time": "2022-02-12T17:29:56.887473",
     "status": "completed"
    },
    "tags": []
   },
   "outputs": [
    {
     "data": {
      "text/html": [
       "<div>\n",
       "<style scoped>\n",
       "    .dataframe tbody tr th:only-of-type {\n",
       "        vertical-align: middle;\n",
       "    }\n",
       "\n",
       "    .dataframe tbody tr th {\n",
       "        vertical-align: top;\n",
       "    }\n",
       "\n",
       "    .dataframe thead th {\n",
       "        text-align: right;\n",
       "    }\n",
       "</style>\n",
       "<table border=\"1\" class=\"dataframe\">\n",
       "  <thead>\n",
       "    <tr style=\"text-align: right;\">\n",
       "      <th></th>\n",
       "      <th>Row With Missing Value</th>\n",
       "      <th>Percentage (%)</th>\n",
       "    </tr>\n",
       "  </thead>\n",
       "  <tbody>\n",
       "    <tr>\n",
       "      <th>description</th>\n",
       "      <td>1476</td>\n",
       "      <td>1.6</td>\n",
       "    </tr>\n",
       "    <tr>\n",
       "      <th>video_id</th>\n",
       "      <td>0</td>\n",
       "      <td>0.0</td>\n",
       "    </tr>\n",
       "    <tr>\n",
       "      <th>pub_hour</th>\n",
       "      <td>0</td>\n",
       "      <td>0.0</td>\n",
       "    </tr>\n",
       "    <tr>\n",
       "      <th>exclamation_sum</th>\n",
       "      <td>0</td>\n",
       "      <td>0.0</td>\n",
       "    </tr>\n",
       "    <tr>\n",
       "      <th>desc_len</th>\n",
       "      <td>0</td>\n",
       "      <td>0.0</td>\n",
       "    </tr>\n",
       "    <tr>\n",
       "      <th>tag_count</th>\n",
       "      <td>0</td>\n",
       "      <td>0.0</td>\n",
       "    </tr>\n",
       "    <tr>\n",
       "      <th>tags_korean</th>\n",
       "      <td>0</td>\n",
       "      <td>0.0</td>\n",
       "    </tr>\n",
       "    <tr>\n",
       "      <th>tags_japanese</th>\n",
       "      <td>0</td>\n",
       "      <td>0.0</td>\n",
       "    </tr>\n",
       "    <tr>\n",
       "      <th>tags_russian</th>\n",
       "      <td>0</td>\n",
       "      <td>0.0</td>\n",
       "    </tr>\n",
       "    <tr>\n",
       "      <th>tags_arab</th>\n",
       "      <td>0</td>\n",
       "      <td>0.0</td>\n",
       "    </tr>\n",
       "    <tr>\n",
       "      <th>tags_mandarin</th>\n",
       "      <td>0</td>\n",
       "      <td>0.0</td>\n",
       "    </tr>\n",
       "    <tr>\n",
       "      <th>tags_indi</th>\n",
       "      <td>0</td>\n",
       "      <td>0.0</td>\n",
       "    </tr>\n",
       "    <tr>\n",
       "      <th>comment_grp_channel</th>\n",
       "      <td>0</td>\n",
       "      <td>0.0</td>\n",
       "    </tr>\n",
       "    <tr>\n",
       "      <th>comment_grp_cat</th>\n",
       "      <td>0</td>\n",
       "      <td>0.0</td>\n",
       "    </tr>\n",
       "    <tr>\n",
       "      <th>target_grp_channel</th>\n",
       "      <td>0</td>\n",
       "      <td>0.0</td>\n",
       "    </tr>\n",
       "    <tr>\n",
       "      <th>target_grp_cat</th>\n",
       "      <td>0</td>\n",
       "      <td>0.0</td>\n",
       "    </tr>\n",
       "    <tr>\n",
       "      <th>view_grp_channel</th>\n",
       "      <td>0</td>\n",
       "      <td>0.0</td>\n",
       "    </tr>\n",
       "    <tr>\n",
       "      <th>view_grp_cat</th>\n",
       "      <td>0</td>\n",
       "      <td>0.0</td>\n",
       "    </tr>\n",
       "    <tr>\n",
       "      <th>likes_grp_channel</th>\n",
       "      <td>0</td>\n",
       "      <td>0.0</td>\n",
       "    </tr>\n",
       "    <tr>\n",
       "      <th>likes_grp_cat</th>\n",
       "      <td>0</td>\n",
       "      <td>0.0</td>\n",
       "    </tr>\n",
       "    <tr>\n",
       "      <th>dislikes_grp_channel</th>\n",
       "      <td>0</td>\n",
       "      <td>0.0</td>\n",
       "    </tr>\n",
       "    <tr>\n",
       "      <th>hashtag_sum</th>\n",
       "      <td>0</td>\n",
       "      <td>0.0</td>\n",
       "    </tr>\n",
       "    <tr>\n",
       "      <th>pub_dow</th>\n",
       "      <td>0</td>\n",
       "      <td>0.0</td>\n",
       "    </tr>\n",
       "    <tr>\n",
       "      <th>title</th>\n",
       "      <td>0</td>\n",
       "      <td>0.0</td>\n",
       "    </tr>\n",
       "    <tr>\n",
       "      <th>dislikes</th>\n",
       "      <td>0</td>\n",
       "      <td>0.0</td>\n",
       "    </tr>\n",
       "    <tr>\n",
       "      <th>publishedAt</th>\n",
       "      <td>0</td>\n",
       "      <td>0.0</td>\n",
       "    </tr>\n",
       "    <tr>\n",
       "      <th>channelId</th>\n",
       "      <td>0</td>\n",
       "      <td>0.0</td>\n",
       "    </tr>\n",
       "    <tr>\n",
       "      <th>channelTitle</th>\n",
       "      <td>0</td>\n",
       "      <td>0.0</td>\n",
       "    </tr>\n",
       "    <tr>\n",
       "      <th>categoryId</th>\n",
       "      <td>0</td>\n",
       "      <td>0.0</td>\n",
       "    </tr>\n",
       "    <tr>\n",
       "      <th>trending_date</th>\n",
       "      <td>0</td>\n",
       "      <td>0.0</td>\n",
       "    </tr>\n",
       "    <tr>\n",
       "      <th>tags</th>\n",
       "      <td>0</td>\n",
       "      <td>0.0</td>\n",
       "    </tr>\n",
       "    <tr>\n",
       "      <th>view_count</th>\n",
       "      <td>0</td>\n",
       "      <td>0.0</td>\n",
       "    </tr>\n",
       "    <tr>\n",
       "      <th>likes</th>\n",
       "      <td>0</td>\n",
       "      <td>0.0</td>\n",
       "    </tr>\n",
       "    <tr>\n",
       "      <th>comment_count</th>\n",
       "      <td>0</td>\n",
       "      <td>0.0</td>\n",
       "    </tr>\n",
       "    <tr>\n",
       "      <th>trend_dow</th>\n",
       "      <td>0</td>\n",
       "      <td>0.0</td>\n",
       "    </tr>\n",
       "    <tr>\n",
       "      <th>thumbnail_link</th>\n",
       "      <td>0</td>\n",
       "      <td>0.0</td>\n",
       "    </tr>\n",
       "    <tr>\n",
       "      <th>comments_disabled</th>\n",
       "      <td>0</td>\n",
       "      <td>0.0</td>\n",
       "    </tr>\n",
       "    <tr>\n",
       "      <th>ratings_disabled</th>\n",
       "      <td>0</td>\n",
       "      <td>0.0</td>\n",
       "    </tr>\n",
       "    <tr>\n",
       "      <th>id</th>\n",
       "      <td>0</td>\n",
       "      <td>0.0</td>\n",
       "    </tr>\n",
       "    <tr>\n",
       "      <th>duration_seconds</th>\n",
       "      <td>0</td>\n",
       "      <td>0.0</td>\n",
       "    </tr>\n",
       "    <tr>\n",
       "      <th>has_thumbnail</th>\n",
       "      <td>0</td>\n",
       "      <td>0.0</td>\n",
       "    </tr>\n",
       "    <tr>\n",
       "      <th>target</th>\n",
       "      <td>0</td>\n",
       "      <td>0.0</td>\n",
       "    </tr>\n",
       "    <tr>\n",
       "      <th>days_age</th>\n",
       "      <td>0</td>\n",
       "      <td>0.0</td>\n",
       "    </tr>\n",
       "    <tr>\n",
       "      <th>dislikes_grp_cat</th>\n",
       "      <td>0</td>\n",
       "      <td>0.0</td>\n",
       "    </tr>\n",
       "  </tbody>\n",
       "</table>\n",
       "</div>"
      ],
      "text/plain": [
       "                      Row With Missing Value  Percentage (%)\n",
       "description                             1476             1.6\n",
       "video_id                                   0             0.0\n",
       "pub_hour                                   0             0.0\n",
       "exclamation_sum                            0             0.0\n",
       "desc_len                                   0             0.0\n",
       "tag_count                                  0             0.0\n",
       "tags_korean                                0             0.0\n",
       "tags_japanese                              0             0.0\n",
       "tags_russian                               0             0.0\n",
       "tags_arab                                  0             0.0\n",
       "tags_mandarin                              0             0.0\n",
       "tags_indi                                  0             0.0\n",
       "comment_grp_channel                        0             0.0\n",
       "comment_grp_cat                            0             0.0\n",
       "target_grp_channel                         0             0.0\n",
       "target_grp_cat                             0             0.0\n",
       "view_grp_channel                           0             0.0\n",
       "view_grp_cat                               0             0.0\n",
       "likes_grp_channel                          0             0.0\n",
       "likes_grp_cat                              0             0.0\n",
       "dislikes_grp_channel                       0             0.0\n",
       "hashtag_sum                                0             0.0\n",
       "pub_dow                                    0             0.0\n",
       "title                                      0             0.0\n",
       "dislikes                                   0             0.0\n",
       "publishedAt                                0             0.0\n",
       "channelId                                  0             0.0\n",
       "channelTitle                               0             0.0\n",
       "categoryId                                 0             0.0\n",
       "trending_date                              0             0.0\n",
       "tags                                       0             0.0\n",
       "view_count                                 0             0.0\n",
       "likes                                      0             0.0\n",
       "comment_count                              0             0.0\n",
       "trend_dow                                  0             0.0\n",
       "thumbnail_link                             0             0.0\n",
       "comments_disabled                          0             0.0\n",
       "ratings_disabled                           0             0.0\n",
       "id                                         0             0.0\n",
       "duration_seconds                           0             0.0\n",
       "has_thumbnail                              0             0.0\n",
       "target                                     0             0.0\n",
       "days_age                                   0             0.0\n",
       "dislikes_grp_cat                           0             0.0"
      ]
     },
     "execution_count": 35,
     "metadata": {},
     "output_type": "execute_result"
    }
   ],
   "source": [
    "get_missing_value(train)"
   ]
  },
  {
   "cell_type": "code",
   "execution_count": 36,
   "id": "e22b7120",
   "metadata": {
    "execution": {
     "iopub.execute_input": "2022-02-12T17:29:57.165599Z",
     "iopub.status.busy": "2022-02-12T17:29:57.164799Z",
     "iopub.status.idle": "2022-02-12T17:29:57.181604Z",
     "shell.execute_reply": "2022-02-12T17:29:57.182169Z",
     "shell.execute_reply.started": "2022-02-12T15:37:46.207155Z"
    },
    "papermill": {
     "duration": 0.082111,
     "end_time": "2022-02-12T17:29:57.182347",
     "exception": false,
     "start_time": "2022-02-12T17:29:57.100236",
     "status": "completed"
    },
    "tags": []
   },
   "outputs": [
    {
     "data": {
      "text/html": [
       "<div>\n",
       "<style scoped>\n",
       "    .dataframe tbody tr th:only-of-type {\n",
       "        vertical-align: middle;\n",
       "    }\n",
       "\n",
       "    .dataframe tbody tr th {\n",
       "        vertical-align: top;\n",
       "    }\n",
       "\n",
       "    .dataframe thead th {\n",
       "        text-align: right;\n",
       "    }\n",
       "</style>\n",
       "<table border=\"1\" class=\"dataframe\">\n",
       "  <thead>\n",
       "    <tr style=\"text-align: right;\">\n",
       "      <th></th>\n",
       "      <th>Row With Missing Value</th>\n",
       "      <th>Percentage (%)</th>\n",
       "    </tr>\n",
       "  </thead>\n",
       "  <tbody>\n",
       "    <tr>\n",
       "      <th>comment_grp_channel</th>\n",
       "      <td>1202</td>\n",
       "      <td>20.72</td>\n",
       "    </tr>\n",
       "    <tr>\n",
       "      <th>dislikes_grp_channel</th>\n",
       "      <td>1202</td>\n",
       "      <td>20.72</td>\n",
       "    </tr>\n",
       "    <tr>\n",
       "      <th>likes_grp_channel</th>\n",
       "      <td>1202</td>\n",
       "      <td>20.72</td>\n",
       "    </tr>\n",
       "    <tr>\n",
       "      <th>view_grp_channel</th>\n",
       "      <td>1202</td>\n",
       "      <td>20.72</td>\n",
       "    </tr>\n",
       "    <tr>\n",
       "      <th>target_grp_channel</th>\n",
       "      <td>1202</td>\n",
       "      <td>20.72</td>\n",
       "    </tr>\n",
       "    <tr>\n",
       "      <th>description</th>\n",
       "      <td>409</td>\n",
       "      <td>7.05</td>\n",
       "    </tr>\n",
       "    <tr>\n",
       "      <th>tags_mandarin</th>\n",
       "      <td>0</td>\n",
       "      <td>0.00</td>\n",
       "    </tr>\n",
       "    <tr>\n",
       "      <th>tag_count</th>\n",
       "      <td>0</td>\n",
       "      <td>0.00</td>\n",
       "    </tr>\n",
       "    <tr>\n",
       "      <th>tags_korean</th>\n",
       "      <td>0</td>\n",
       "      <td>0.00</td>\n",
       "    </tr>\n",
       "    <tr>\n",
       "      <th>tags_japanese</th>\n",
       "      <td>0</td>\n",
       "      <td>0.00</td>\n",
       "    </tr>\n",
       "    <tr>\n",
       "      <th>tags_russian</th>\n",
       "      <td>0</td>\n",
       "      <td>0.00</td>\n",
       "    </tr>\n",
       "    <tr>\n",
       "      <th>tags_arab</th>\n",
       "      <td>0</td>\n",
       "      <td>0.00</td>\n",
       "    </tr>\n",
       "    <tr>\n",
       "      <th>video_id</th>\n",
       "      <td>0</td>\n",
       "      <td>0.00</td>\n",
       "    </tr>\n",
       "    <tr>\n",
       "      <th>tags_indi</th>\n",
       "      <td>0</td>\n",
       "      <td>0.00</td>\n",
       "    </tr>\n",
       "    <tr>\n",
       "      <th>exclamation_sum</th>\n",
       "      <td>0</td>\n",
       "      <td>0.00</td>\n",
       "    </tr>\n",
       "    <tr>\n",
       "      <th>comment_grp_cat</th>\n",
       "      <td>0</td>\n",
       "      <td>0.00</td>\n",
       "    </tr>\n",
       "    <tr>\n",
       "      <th>target_grp_cat</th>\n",
       "      <td>0</td>\n",
       "      <td>0.00</td>\n",
       "    </tr>\n",
       "    <tr>\n",
       "      <th>view_grp_cat</th>\n",
       "      <td>0</td>\n",
       "      <td>0.00</td>\n",
       "    </tr>\n",
       "    <tr>\n",
       "      <th>likes_grp_cat</th>\n",
       "      <td>0</td>\n",
       "      <td>0.00</td>\n",
       "    </tr>\n",
       "    <tr>\n",
       "      <th>desc_len</th>\n",
       "      <td>0</td>\n",
       "      <td>0.00</td>\n",
       "    </tr>\n",
       "    <tr>\n",
       "      <th>hashtag_sum</th>\n",
       "      <td>0</td>\n",
       "      <td>0.00</td>\n",
       "    </tr>\n",
       "    <tr>\n",
       "      <th>title</th>\n",
       "      <td>0</td>\n",
       "      <td>0.00</td>\n",
       "    </tr>\n",
       "    <tr>\n",
       "      <th>pub_hour</th>\n",
       "      <td>0</td>\n",
       "      <td>0.00</td>\n",
       "    </tr>\n",
       "    <tr>\n",
       "      <th>publishedAt</th>\n",
       "      <td>0</td>\n",
       "      <td>0.00</td>\n",
       "    </tr>\n",
       "    <tr>\n",
       "      <th>channelId</th>\n",
       "      <td>0</td>\n",
       "      <td>0.00</td>\n",
       "    </tr>\n",
       "    <tr>\n",
       "      <th>channelTitle</th>\n",
       "      <td>0</td>\n",
       "      <td>0.00</td>\n",
       "    </tr>\n",
       "    <tr>\n",
       "      <th>categoryId</th>\n",
       "      <td>0</td>\n",
       "      <td>0.00</td>\n",
       "    </tr>\n",
       "    <tr>\n",
       "      <th>trending_date</th>\n",
       "      <td>0</td>\n",
       "      <td>0.00</td>\n",
       "    </tr>\n",
       "    <tr>\n",
       "      <th>tags</th>\n",
       "      <td>0</td>\n",
       "      <td>0.00</td>\n",
       "    </tr>\n",
       "    <tr>\n",
       "      <th>thumbnail_link</th>\n",
       "      <td>0</td>\n",
       "      <td>0.00</td>\n",
       "    </tr>\n",
       "    <tr>\n",
       "      <th>comments_disabled</th>\n",
       "      <td>0</td>\n",
       "      <td>0.00</td>\n",
       "    </tr>\n",
       "    <tr>\n",
       "      <th>ratings_disabled</th>\n",
       "      <td>0</td>\n",
       "      <td>0.00</td>\n",
       "    </tr>\n",
       "    <tr>\n",
       "      <th>id</th>\n",
       "      <td>0</td>\n",
       "      <td>0.00</td>\n",
       "    </tr>\n",
       "    <tr>\n",
       "      <th>duration_seconds</th>\n",
       "      <td>0</td>\n",
       "      <td>0.00</td>\n",
       "    </tr>\n",
       "    <tr>\n",
       "      <th>has_thumbnail</th>\n",
       "      <td>0</td>\n",
       "      <td>0.00</td>\n",
       "    </tr>\n",
       "    <tr>\n",
       "      <th>days_age</th>\n",
       "      <td>0</td>\n",
       "      <td>0.00</td>\n",
       "    </tr>\n",
       "    <tr>\n",
       "      <th>trend_dow</th>\n",
       "      <td>0</td>\n",
       "      <td>0.00</td>\n",
       "    </tr>\n",
       "    <tr>\n",
       "      <th>pub_dow</th>\n",
       "      <td>0</td>\n",
       "      <td>0.00</td>\n",
       "    </tr>\n",
       "    <tr>\n",
       "      <th>dislikes_grp_cat</th>\n",
       "      <td>0</td>\n",
       "      <td>0.00</td>\n",
       "    </tr>\n",
       "  </tbody>\n",
       "</table>\n",
       "</div>"
      ],
      "text/plain": [
       "                      Row With Missing Value  Percentage (%)\n",
       "comment_grp_channel                     1202           20.72\n",
       "dislikes_grp_channel                    1202           20.72\n",
       "likes_grp_channel                       1202           20.72\n",
       "view_grp_channel                        1202           20.72\n",
       "target_grp_channel                      1202           20.72\n",
       "description                              409            7.05\n",
       "tags_mandarin                              0            0.00\n",
       "tag_count                                  0            0.00\n",
       "tags_korean                                0            0.00\n",
       "tags_japanese                              0            0.00\n",
       "tags_russian                               0            0.00\n",
       "tags_arab                                  0            0.00\n",
       "video_id                                   0            0.00\n",
       "tags_indi                                  0            0.00\n",
       "exclamation_sum                            0            0.00\n",
       "comment_grp_cat                            0            0.00\n",
       "target_grp_cat                             0            0.00\n",
       "view_grp_cat                               0            0.00\n",
       "likes_grp_cat                              0            0.00\n",
       "desc_len                                   0            0.00\n",
       "hashtag_sum                                0            0.00\n",
       "title                                      0            0.00\n",
       "pub_hour                                   0            0.00\n",
       "publishedAt                                0            0.00\n",
       "channelId                                  0            0.00\n",
       "channelTitle                               0            0.00\n",
       "categoryId                                 0            0.00\n",
       "trending_date                              0            0.00\n",
       "tags                                       0            0.00\n",
       "thumbnail_link                             0            0.00\n",
       "comments_disabled                          0            0.00\n",
       "ratings_disabled                           0            0.00\n",
       "id                                         0            0.00\n",
       "duration_seconds                           0            0.00\n",
       "has_thumbnail                              0            0.00\n",
       "days_age                                   0            0.00\n",
       "trend_dow                                  0            0.00\n",
       "pub_dow                                    0            0.00\n",
       "dislikes_grp_cat                           0            0.00"
      ]
     },
     "execution_count": 36,
     "metadata": {},
     "output_type": "execute_result"
    }
   ],
   "source": [
    "get_missing_value(test)"
   ]
  },
  {
   "cell_type": "code",
   "execution_count": 37,
   "id": "2cfb0880",
   "metadata": {
    "execution": {
     "iopub.execute_input": "2022-02-12T17:29:57.318359Z",
     "iopub.status.busy": "2022-02-12T17:29:57.317396Z",
     "iopub.status.idle": "2022-02-12T17:29:57.425382Z",
     "shell.execute_reply": "2022-02-12T17:29:57.425809Z",
     "shell.execute_reply.started": "2022-02-12T15:37:46.235825Z"
    },
    "papermill": {
     "duration": 0.182264,
     "end_time": "2022-02-12T17:29:57.425956",
     "exception": false,
     "start_time": "2022-02-12T17:29:57.243692",
     "status": "completed"
    },
    "tags": []
   },
   "outputs": [
    {
     "data": {
      "text/plain": [
       "(False, False)"
      ]
     },
     "execution_count": 37,
     "metadata": {},
     "output_type": "execute_result"
    }
   ],
   "source": [
    "#dealing with missing value - 2\n",
    "test['comment_grp_channel'].fillna(test['comment_grp_channel'].mean(), inplace=True)\n",
    "test['dislikes_grp_channel'].fillna(test['dislikes_grp_channel'].mean(), inplace=True)\n",
    "test['likes_grp_channel'].fillna(test['likes_grp_channel'].mean(), inplace=True)\n",
    "test['view_grp_channel'].fillna(test['view_grp_channel'].mean(), inplace=True)\n",
    "test['target_grp_channel'].fillna(test['target_grp_channel'].mean(), inplace=True)\n",
    "\n",
    "#dropping description column\n",
    "train.drop('description',axis=1,inplace=True)\n",
    "test.drop('description',axis=1,inplace=True)\n",
    "\n",
    "#check missing value\n",
    "train.isna().values.any(), test.isna().values.any()"
   ]
  },
  {
   "cell_type": "code",
   "execution_count": 38,
   "id": "4b3365f6",
   "metadata": {
    "execution": {
     "iopub.execute_input": "2022-02-12T17:29:57.549874Z",
     "iopub.status.busy": "2022-02-12T17:29:57.549024Z",
     "iopub.status.idle": "2022-02-12T17:29:57.555461Z",
     "shell.execute_reply": "2022-02-12T17:29:57.555056Z",
     "shell.execute_reply.started": "2022-02-12T15:37:46.342976Z"
    },
    "papermill": {
     "duration": 0.070988,
     "end_time": "2022-02-12T17:29:57.555581",
     "exception": false,
     "start_time": "2022-02-12T17:29:57.484593",
     "status": "completed"
    },
    "tags": []
   },
   "outputs": [
    {
     "data": {
      "text/plain": [
       "video_id                             object\n",
       "title                                object\n",
       "publishedAt             datetime64[ns, UTC]\n",
       "channelId                            object\n",
       "channelTitle                         object\n",
       "categoryId                            int64\n",
       "trending_date           datetime64[ns, UTC]\n",
       "tags                                 object\n",
       "view_count                            int64\n",
       "likes                                 int64\n",
       "dislikes                              int64\n",
       "comment_count                         int64\n",
       "thumbnail_link                       object\n",
       "comments_disabled                      bool\n",
       "ratings_disabled                       bool\n",
       "id                                   object\n",
       "duration_seconds                    float64\n",
       "has_thumbnail                          bool\n",
       "target                              float64\n",
       "days_age                              int64\n",
       "trend_dow                             int64\n",
       "pub_dow                               int64\n",
       "pub_hour                              int64\n",
       "hashtag_sum                         float64\n",
       "exclamation_sum                     float64\n",
       "desc_len                            float64\n",
       "tag_count                             int64\n",
       "tags_korean                           int64\n",
       "tags_japanese                         int64\n",
       "tags_russian                          int64\n",
       "tags_arab                             int64\n",
       "tags_mandarin                         int64\n",
       "tags_indi                             int64\n",
       "comment_grp_channel                 float64\n",
       "comment_grp_cat                     float64\n",
       "target_grp_channel                  float64\n",
       "target_grp_cat                      float64\n",
       "view_grp_channel                    float64\n",
       "view_grp_cat                        float64\n",
       "likes_grp_channel                   float64\n",
       "likes_grp_cat                       float64\n",
       "dislikes_grp_channel                float64\n",
       "dislikes_grp_cat                    float64\n",
       "dtype: object"
      ]
     },
     "execution_count": 38,
     "metadata": {},
     "output_type": "execute_result"
    }
   ],
   "source": [
    "train.dtypes"
   ]
  },
  {
   "cell_type": "code",
   "execution_count": 39,
   "id": "211d8d8e",
   "metadata": {
    "execution": {
     "iopub.execute_input": "2022-02-12T17:29:57.680336Z",
     "iopub.status.busy": "2022-02-12T17:29:57.679610Z",
     "iopub.status.idle": "2022-02-12T17:29:57.682472Z",
     "shell.execute_reply": "2022-02-12T17:29:57.682879Z",
     "shell.execute_reply.started": "2022-02-12T15:37:46.352681Z"
    },
    "papermill": {
     "duration": 0.069029,
     "end_time": "2022-02-12T17:29:57.683033",
     "exception": false,
     "start_time": "2022-02-12T17:29:57.614004",
     "status": "completed"
    },
    "tags": []
   },
   "outputs": [
    {
     "data": {
      "text/plain": [
       "video_id                             object\n",
       "title                                object\n",
       "publishedAt             datetime64[ns, UTC]\n",
       "channelId                            object\n",
       "channelTitle                         object\n",
       "categoryId                            int64\n",
       "trending_date           datetime64[ns, UTC]\n",
       "tags                                 object\n",
       "thumbnail_link                       object\n",
       "comments_disabled                      bool\n",
       "ratings_disabled                       bool\n",
       "id                                   object\n",
       "duration_seconds                    float64\n",
       "has_thumbnail                          bool\n",
       "days_age                              int64\n",
       "trend_dow                             int64\n",
       "pub_dow                               int64\n",
       "pub_hour                              int64\n",
       "hashtag_sum                         float64\n",
       "exclamation_sum                     float64\n",
       "desc_len                            float64\n",
       "tag_count                             int64\n",
       "tags_korean                           int64\n",
       "tags_japanese                         int64\n",
       "tags_russian                          int64\n",
       "tags_arab                             int64\n",
       "tags_mandarin                         int64\n",
       "tags_indi                             int64\n",
       "comment_grp_channel                 float64\n",
       "comment_grp_cat                     float64\n",
       "target_grp_channel                  float64\n",
       "target_grp_cat                      float64\n",
       "view_grp_channel                    float64\n",
       "view_grp_cat                        float64\n",
       "likes_grp_channel                   float64\n",
       "likes_grp_cat                       float64\n",
       "dislikes_grp_channel                float64\n",
       "dislikes_grp_cat                    float64\n",
       "dtype: object"
      ]
     },
     "execution_count": 39,
     "metadata": {},
     "output_type": "execute_result"
    }
   ],
   "source": [
    "test.dtypes"
   ]
  },
  {
   "cell_type": "code",
   "execution_count": 40,
   "id": "21c491de",
   "metadata": {
    "execution": {
     "iopub.execute_input": "2022-02-12T17:29:57.812099Z",
     "iopub.status.busy": "2022-02-12T17:29:57.811255Z",
     "iopub.status.idle": "2022-02-12T17:29:57.998851Z",
     "shell.execute_reply": "2022-02-12T17:29:57.998279Z",
     "shell.execute_reply.started": "2022-02-12T15:37:46.364245Z"
    },
    "papermill": {
     "duration": 0.256912,
     "end_time": "2022-02-12T17:29:57.998976",
     "exception": false,
     "start_time": "2022-02-12T17:29:57.742064",
     "status": "completed"
    },
    "tags": []
   },
   "outputs": [],
   "source": [
    "train = train.drop_duplicates()"
   ]
  },
  {
   "cell_type": "code",
   "execution_count": 41,
   "id": "12332157",
   "metadata": {
    "execution": {
     "iopub.execute_input": "2022-02-12T17:29:58.122387Z",
     "iopub.status.busy": "2022-02-12T17:29:58.121643Z",
     "iopub.status.idle": "2022-02-12T17:29:58.412851Z",
     "shell.execute_reply": "2022-02-12T17:29:58.412349Z",
     "shell.execute_reply.started": "2022-02-12T15:37:46.556261Z"
    },
    "papermill": {
     "duration": 0.355414,
     "end_time": "2022-02-12T17:29:58.412971",
     "exception": false,
     "start_time": "2022-02-12T17:29:58.057557",
     "status": "completed"
    },
    "tags": []
   },
   "outputs": [],
   "source": [
    "#import sklearn\n",
    "from sklearn.preprocessing import LabelEncoder\n",
    "from sklearn.model_selection import train_test_split\n",
    "from sklearn.metrics import mean_absolute_error\n",
    "from sklearn.svm import SVR\n",
    "from sklearn.ensemble import RandomForestRegressor\n",
    "from sklearn.neighbors import KNeighborsRegressor\n",
    "from sklearn.linear_model import LinearRegression\n",
    "from sklearn.model_selection import GridSearchCV"
   ]
  },
  {
   "cell_type": "code",
   "execution_count": 42,
   "id": "656a5d4a",
   "metadata": {
    "execution": {
     "iopub.execute_input": "2022-02-12T17:29:58.549319Z",
     "iopub.status.busy": "2022-02-12T17:29:58.548545Z",
     "iopub.status.idle": "2022-02-12T17:29:58.951397Z",
     "shell.execute_reply": "2022-02-12T17:29:58.950871Z",
     "shell.execute_reply.started": "2022-02-12T15:37:46.564090Z"
    },
    "papermill": {
     "duration": 0.479557,
     "end_time": "2022-02-12T17:29:58.951531",
     "exception": false,
     "start_time": "2022-02-12T17:29:58.471974",
     "status": "completed"
    },
    "tags": []
   },
   "outputs": [],
   "source": [
    "#label encoding\n",
    "enc_feat = ['comments_disabled','ratings_disabled','tags_korean','tags_japanese',\n",
    "           'tags_russian','tags_arab','tags_mandarin','tags_indi','categoryId',\n",
    "           'trend_dow','pub_dow','pub_hour','has_thumbnail']\n",
    "for i in train[enc_feat]:\n",
    "    le = LabelEncoder() \n",
    "    le.fit(list(train[i].values)) \n",
    "    train[i] = le.transform(list(train[i].values))\n",
    "for i in test[enc_feat]:\n",
    "    le = LabelEncoder() \n",
    "    le.fit(list(test[i].values)) \n",
    "    test[i] = le.transform(list(test[i].values))"
   ]
  },
  {
   "cell_type": "code",
   "execution_count": 43,
   "id": "bb1370ae",
   "metadata": {
    "execution": {
     "iopub.execute_input": "2022-02-12T17:29:59.077843Z",
     "iopub.status.busy": "2022-02-12T17:29:59.076680Z",
     "iopub.status.idle": "2022-02-12T17:29:59.113090Z",
     "shell.execute_reply": "2022-02-12T17:29:59.113509Z",
     "shell.execute_reply.started": "2022-02-12T15:37:46.971857Z"
    },
    "papermill": {
     "duration": 0.10305,
     "end_time": "2022-02-12T17:29:59.113663",
     "exception": false,
     "start_time": "2022-02-12T17:29:59.010613",
     "status": "completed"
    },
    "tags": []
   },
   "outputs": [],
   "source": [
    "#set features and target\n",
    "FEATURES = ['categoryId','duration_seconds','comments_disabled',\n",
    "            'ratings_disabled','has_thumbnail','days_age',\n",
    "           'trend_dow','pub_dow','pub_hour',\n",
    "           'hashtag_sum','exclamation_sum','desc_len',\n",
    "           'tag_count','exclamation_sum','desc_len',\n",
    "           'hashtag_sum','tags_korean','tags_japanese',\n",
    "           'tags_russian','tags_arab','tags_mandarin',\n",
    "           'tags_indi','comment_grp_channel','comment_grp_cat',\n",
    "           'target_grp_channel','target_grp_cat','view_grp_channel',\n",
    "           'view_grp_cat','likes_grp_channel','likes_grp_cat',\n",
    "           'dislikes_grp_channel','dislikes_grp_cat']\n",
    "TARGET = ['target']\n",
    "\n",
    "#define X and y\n",
    "X = train[FEATURES]\n",
    "y = train[TARGET]\n",
    "\n",
    "#split into train and validation\n",
    "X_train, X_val, y_train, y_val = train_test_split(X, y, test_size=0.2)"
   ]
  },
  {
   "cell_type": "code",
   "execution_count": 44,
   "id": "c132598f",
   "metadata": {
    "execution": {
     "iopub.execute_input": "2022-02-12T17:29:59.234079Z",
     "iopub.status.busy": "2022-02-12T17:29:59.233272Z",
     "iopub.status.idle": "2022-02-12T17:29:59.242731Z",
     "shell.execute_reply": "2022-02-12T17:29:59.243177Z",
     "shell.execute_reply.started": "2022-02-12T15:37:47.014779Z"
    },
    "papermill": {
     "duration": 0.070922,
     "end_time": "2022-02-12T17:29:59.243321",
     "exception": false,
     "start_time": "2022-02-12T17:29:59.172399",
     "status": "completed"
    },
    "tags": []
   },
   "outputs": [
    {
     "data": {
      "text/html": [
       "<div>\n",
       "<style scoped>\n",
       "    .dataframe tbody tr th:only-of-type {\n",
       "        vertical-align: middle;\n",
       "    }\n",
       "\n",
       "    .dataframe tbody tr th {\n",
       "        vertical-align: top;\n",
       "    }\n",
       "\n",
       "    .dataframe thead th {\n",
       "        text-align: right;\n",
       "    }\n",
       "</style>\n",
       "<table border=\"1\" class=\"dataframe\">\n",
       "  <thead>\n",
       "    <tr style=\"text-align: right;\">\n",
       "      <th></th>\n",
       "      <th>target</th>\n",
       "    </tr>\n",
       "  </thead>\n",
       "  <tbody>\n",
       "    <tr>\n",
       "      <th>62583</th>\n",
       "      <td>0.043941</td>\n",
       "    </tr>\n",
       "    <tr>\n",
       "      <th>41036</th>\n",
       "      <td>0.052103</td>\n",
       "    </tr>\n",
       "    <tr>\n",
       "      <th>7733</th>\n",
       "      <td>0.111281</td>\n",
       "    </tr>\n",
       "    <tr>\n",
       "      <th>41020</th>\n",
       "      <td>0.086476</td>\n",
       "    </tr>\n",
       "    <tr>\n",
       "      <th>77452</th>\n",
       "      <td>0.015853</td>\n",
       "    </tr>\n",
       "    <tr>\n",
       "      <th>...</th>\n",
       "      <td>...</td>\n",
       "    </tr>\n",
       "    <tr>\n",
       "      <th>82023</th>\n",
       "      <td>0.015314</td>\n",
       "    </tr>\n",
       "    <tr>\n",
       "      <th>84397</th>\n",
       "      <td>0.050921</td>\n",
       "    </tr>\n",
       "    <tr>\n",
       "      <th>24109</th>\n",
       "      <td>0.045189</td>\n",
       "    </tr>\n",
       "    <tr>\n",
       "      <th>54642</th>\n",
       "      <td>0.009326</td>\n",
       "    </tr>\n",
       "    <tr>\n",
       "      <th>27577</th>\n",
       "      <td>0.056252</td>\n",
       "    </tr>\n",
       "  </tbody>\n",
       "</table>\n",
       "<p>18451 rows × 1 columns</p>\n",
       "</div>"
      ],
      "text/plain": [
       "         target\n",
       "62583  0.043941\n",
       "41036  0.052103\n",
       "7733   0.111281\n",
       "41020  0.086476\n",
       "77452  0.015853\n",
       "...         ...\n",
       "82023  0.015314\n",
       "84397  0.050921\n",
       "24109  0.045189\n",
       "54642  0.009326\n",
       "27577  0.056252\n",
       "\n",
       "[18451 rows x 1 columns]"
      ]
     },
     "execution_count": 44,
     "metadata": {},
     "output_type": "execute_result"
    }
   ],
   "source": [
    "y_val"
   ]
  },
  {
   "cell_type": "code",
   "execution_count": 45,
   "id": "548d5ed1",
   "metadata": {
    "execution": {
     "iopub.execute_input": "2022-02-12T17:29:59.384686Z",
     "iopub.status.busy": "2022-02-12T17:29:59.383526Z",
     "iopub.status.idle": "2022-02-12T17:29:59.498938Z",
     "shell.execute_reply": "2022-02-12T17:29:59.500075Z",
     "shell.execute_reply.started": "2022-02-12T15:37:47.025987Z"
    },
    "papermill": {
     "duration": 0.192064,
     "end_time": "2022-02-12T17:29:59.500345",
     "exception": false,
     "start_time": "2022-02-12T17:29:59.308281",
     "status": "completed"
    },
    "tags": []
   },
   "outputs": [
    {
     "data": {
      "text/plain": [
       "0.010705727954361137"
      ]
     },
     "execution_count": 45,
     "metadata": {},
     "output_type": "execute_result"
    }
   ],
   "source": [
    "#using LinearRegression\n",
    "lr = LinearRegression()\n",
    "lr.fit(X_train,y_train)\n",
    "lr_pred = lr.predict(X_val)\n",
    "lr_acc = mean_absolute_error(y_val,lr_pred)\n",
    "lr_acc"
   ]
  },
  {
   "cell_type": "code",
   "execution_count": 46,
   "id": "f0ee8e8f",
   "metadata": {
    "execution": {
     "iopub.execute_input": "2022-02-12T17:29:59.685630Z",
     "iopub.status.busy": "2022-02-12T17:29:59.684441Z",
     "iopub.status.idle": "2022-02-12T17:30:00.743756Z",
     "shell.execute_reply": "2022-02-12T17:30:00.744227Z",
     "shell.execute_reply.started": "2022-02-12T15:37:47.126112Z"
    },
    "papermill": {
     "duration": 1.128259,
     "end_time": "2022-02-12T17:30:00.744394",
     "exception": false,
     "start_time": "2022-02-12T17:29:59.616135",
     "status": "completed"
    },
    "tags": []
   },
   "outputs": [
    {
     "data": {
      "text/plain": [
       "0.007774155549484104"
      ]
     },
     "execution_count": 46,
     "metadata": {},
     "output_type": "execute_result"
    }
   ],
   "source": [
    "#using KNN\n",
    "knn = KNeighborsRegressor()\n",
    "knn.fit(X_train,y_train)\n",
    "knn_pred = knn.predict(X_val)\n",
    "knn_acc = mean_absolute_error(y_val,knn_pred)\n",
    "knn_acc"
   ]
  },
  {
   "cell_type": "code",
   "execution_count": 47,
   "id": "9e6302ce",
   "metadata": {
    "execution": {
     "iopub.execute_input": "2022-02-12T17:30:00.870288Z",
     "iopub.status.busy": "2022-02-12T17:30:00.869387Z",
     "iopub.status.idle": "2022-02-12T17:31:29.351545Z",
     "shell.execute_reply": "2022-02-12T17:31:29.351968Z",
     "shell.execute_reply.started": "2022-02-12T15:37:49.209051Z"
    },
    "papermill": {
     "duration": 88.547346,
     "end_time": "2022-02-12T17:31:29.352145",
     "exception": false,
     "start_time": "2022-02-12T17:30:00.804799",
     "status": "completed"
    },
    "tags": []
   },
   "outputs": [
    {
     "data": {
      "text/plain": [
       "0.0065150944100942736"
      ]
     },
     "execution_count": 47,
     "metadata": {},
     "output_type": "execute_result"
    }
   ],
   "source": [
    "#using RandomForestRegressor\n",
    "rfr = RandomForestRegressor()\n",
    "rfr.fit(X_train,y_train)\n",
    "rfr_pred = rfr.predict(X_val)\n",
    "rfr_acc = mean_absolute_error(y_val,rfr_pred)\n",
    "rfr_acc"
   ]
  },
  {
   "cell_type": "code",
   "execution_count": 48,
   "id": "717544a4",
   "metadata": {
    "execution": {
     "iopub.execute_input": "2022-02-12T17:31:29.477161Z",
     "iopub.status.busy": "2022-02-12T17:31:29.476243Z",
     "iopub.status.idle": "2022-02-12T17:31:35.299469Z",
     "shell.execute_reply": "2022-02-12T17:31:35.298905Z",
     "shell.execute_reply.started": "2022-02-12T15:39:26.321953Z"
    },
    "papermill": {
     "duration": 5.888071,
     "end_time": "2022-02-12T17:31:35.299648",
     "exception": false,
     "start_time": "2022-02-12T17:31:29.411577",
     "status": "completed"
    },
    "tags": []
   },
   "outputs": [
    {
     "data": {
      "text/plain": [
       "0.053118090023411176"
      ]
     },
     "execution_count": 48,
     "metadata": {},
     "output_type": "execute_result"
    }
   ],
   "source": [
    "#using SVR\n",
    "SVR = SVR()\n",
    "SVR.fit(X_train,y_train)\n",
    "SVR_pred = SVR.predict(X_val)\n",
    "SVR_acc = mean_absolute_error(y_val,SVR_pred)\n",
    "SVR_acc"
   ]
  },
  {
   "cell_type": "code",
   "execution_count": 49,
   "id": "63e743ab",
   "metadata": {
    "execution": {
     "iopub.execute_input": "2022-02-12T17:31:35.445269Z",
     "iopub.status.busy": "2022-02-12T17:31:35.443895Z",
     "iopub.status.idle": "2022-02-12T17:47:01.875979Z",
     "shell.execute_reply": "2022-02-12T17:47:01.875461Z",
     "shell.execute_reply.started": "2022-02-12T16:59:55.454725Z"
    },
    "papermill": {
     "duration": 926.507037,
     "end_time": "2022-02-12T17:47:01.876160",
     "exception": false,
     "start_time": "2022-02-12T17:31:35.369123",
     "status": "completed"
    },
    "tags": []
   },
   "outputs": [],
   "source": [
    "#checking RMSE for RandomForestRegressor with different n_estimators\n",
    "klist = [60,70,80,90,100,110,120,130,140,150]\n",
    "MAE = []\n",
    "for k in klist:\n",
    "    rfrr = RandomForestRegressor(n_estimators=k)\n",
    "    rfrr.fit(X_train,y_train)\n",
    "    rfrr_pred = rfrr.predict(X_val)\n",
    "    rfrr_MAE = mean_absolute_error(y_val,rfrr_pred)\n",
    "    MAE.append(rfrr_MAE)"
   ]
  },
  {
   "cell_type": "code",
   "execution_count": 50,
   "id": "fb24a8ee",
   "metadata": {
    "execution": {
     "iopub.execute_input": "2022-02-12T17:47:02.011717Z",
     "iopub.status.busy": "2022-02-12T17:47:02.011212Z",
     "iopub.status.idle": "2022-02-12T17:47:02.211153Z",
     "shell.execute_reply": "2022-02-12T17:47:02.211520Z",
     "shell.execute_reply.started": "2022-02-12T17:16:37.464530Z"
    },
    "papermill": {
     "duration": 0.27458,
     "end_time": "2022-02-12T17:47:02.211646",
     "exception": false,
     "start_time": "2022-02-12T17:47:01.937066",
     "status": "completed"
    },
    "tags": []
   },
   "outputs": [
    {
     "data": {
      "image/png": "[encoded data removed]",
      "text/plain": [
       "<Figure size 504x504 with 1 Axes>"
      ]
     },
     "metadata": {},
     "output_type": "display_data"
    }
   ],
   "source": [
    "plt.plot(klist,\n",
    "        MAE)\n",
    "plt.title('n_estimators vs MAE')\n",
    "plt.xlabel('n_estimators')\n",
    "plt.ylabel('MAE')\n",
    "plt.show()"
   ]
  },
  {
   "cell_type": "code",
   "execution_count": 51,
   "id": "856efa5c",
   "metadata": {
    "execution": {
     "iopub.execute_input": "2022-02-12T17:47:02.341272Z",
     "iopub.status.busy": "2022-02-12T17:47:02.340277Z",
     "iopub.status.idle": "2022-02-12T17:49:05.064845Z",
     "shell.execute_reply": "2022-02-12T17:49:05.065304Z",
     "shell.execute_reply.started": "2022-02-12T17:20:26.276490Z"
    },
    "papermill": {
     "duration": 122.793359,
     "end_time": "2022-02-12T17:49:05.065461",
     "exception": false,
     "start_time": "2022-02-12T17:47:02.272102",
     "status": "completed"
    },
    "tags": []
   },
   "outputs": [
    {
     "data": {
      "text/plain": [
       "0.006498770267305145"
      ]
     },
     "execution_count": 51,
     "metadata": {},
     "output_type": "execute_result"
    }
   ],
   "source": [
    "#check again if mae reduced or not\n",
    "best_model = RandomForestRegressor(n_estimators=140)\n",
    "best_model.fit(X_train,y_train)\n",
    "best_predict = best_model.predict(X_val)\n",
    "best_predict_acc = mean_absolute_error(y_val,best_predict)\n",
    "best_predict_acc"
   ]
  },
  {
   "cell_type": "code",
   "execution_count": 52,
   "id": "db385969",
   "metadata": {
    "execution": {
     "iopub.execute_input": "2022-02-12T17:49:05.196263Z",
     "iopub.status.busy": "2022-02-12T17:49:05.195627Z",
     "iopub.status.idle": "2022-02-12T17:49:05.198565Z",
     "shell.execute_reply": "2022-02-12T17:49:05.198956Z",
     "shell.execute_reply.started": "2022-02-12T17:26:26.233314Z"
    },
    "papermill": {
     "duration": 0.072291,
     "end_time": "2022-02-12T17:49:05.199098",
     "exception": false,
     "start_time": "2022-02-12T17:49:05.126807",
     "status": "completed"
    },
    "tags": []
   },
   "outputs": [
    {
     "data": {
      "text/plain": [
       "(array([0.04874382, 0.04822455, 0.10816304, ..., 0.07357657, 0.01010487,\n",
       "        0.05673565]),\n",
       "          target\n",
       " 62583  0.043941\n",
       " 41036  0.052103\n",
       " 7733   0.111281\n",
       " 41020  0.086476\n",
       " 77452  0.015853\n",
       " ...         ...\n",
       " 82023  0.015314\n",
       " 84397  0.050921\n",
       " 24109  0.045189\n",
       " 54642  0.009326\n",
       " 27577  0.056252\n",
       " \n",
       " [18451 rows x 1 columns])"
      ]
     },
     "execution_count": 52,
     "metadata": {},
     "output_type": "execute_result"
    }
   ],
   "source": [
    "best_predict, y_val"
   ]
  },
  {
   "cell_type": "code",
   "execution_count": 53,
   "id": "e12a0fbc",
   "metadata": {
    "execution": {
     "iopub.execute_input": "2022-02-12T17:49:05.329010Z",
     "iopub.status.busy": "2022-02-12T17:49:05.328183Z",
     "iopub.status.idle": "2022-02-12T17:49:05.651887Z",
     "shell.execute_reply": "2022-02-12T17:49:05.651435Z",
     "shell.execute_reply.started": "2022-02-12T17:23:36.986424Z"
    },
    "papermill": {
     "duration": 0.390802,
     "end_time": "2022-02-12T17:49:05.652037",
     "exception": false,
     "start_time": "2022-02-12T17:49:05.261235",
     "status": "completed"
    },
    "tags": []
   },
   "outputs": [
    {
     "data": {
      "text/plain": [
       "array([0.09043122, 0.07956161, 0.09262218, ..., 0.05444706, 0.07297861,\n",
       "       0.03956878])"
      ]
     },
     "execution_count": 53,
     "metadata": {},
     "output_type": "execute_result"
    }
   ],
   "source": [
    "#predict test dataset\n",
    "test_X = test[FEATURES]\n",
    "testX_pred = best_model.predict(test_X)\n",
    "testX_pred"
   ]
  },
  {
   "cell_type": "code",
   "execution_count": 54,
   "id": "f154135b",
   "metadata": {
    "execution": {
     "iopub.execute_input": "2022-02-12T17:49:05.780861Z",
     "iopub.status.busy": "2022-02-12T17:49:05.780326Z",
     "iopub.status.idle": "2022-02-12T17:49:05.820838Z",
     "shell.execute_reply": "2022-02-12T17:49:05.821254Z",
     "shell.execute_reply.started": "2022-02-12T17:24:55.018199Z"
    },
    "papermill": {
     "duration": 0.106486,
     "end_time": "2022-02-12T17:49:05.821392",
     "exception": false,
     "start_time": "2022-02-12T17:49:05.714906",
     "status": "completed"
    },
    "tags": []
   },
   "outputs": [
    {
     "data": {
      "text/plain": [
       "0    _wNsZEqpKUA_2021-12-01\n",
       "1    2jfbXZiE6Lc_2021-12-01\n",
       "2    F1Hq8eVOMHs_2021-12-01\n",
       "3    GQXVQmcGQUY_2021-12-01\n",
       "4    n4XojTb6pfs_2021-12-01\n",
       "Name: id, dtype: object"
      ]
     },
     "execution_count": 54,
     "metadata": {},
     "output_type": "execute_result"
    }
   ],
   "source": [
    "test2 = pd.read_parquet('../input/kaggle-pog-series-s01e01/test.parquet')\n",
    "test2.id.head()"
   ]
  },
  {
   "cell_type": "code",
   "execution_count": 55,
   "id": "06356db1",
   "metadata": {
    "execution": {
     "iopub.execute_input": "2022-02-12T17:49:05.959726Z",
     "iopub.status.busy": "2022-02-12T17:49:05.958981Z",
     "iopub.status.idle": "2022-02-12T17:49:05.961820Z",
     "shell.execute_reply": "2022-02-12T17:49:05.962265Z",
     "shell.execute_reply.started": "2022-02-12T17:25:01.738975Z"
    },
    "papermill": {
     "duration": 0.077743,
     "end_time": "2022-02-12T17:49:05.962412",
     "exception": false,
     "start_time": "2022-02-12T17:49:05.884669",
     "status": "completed"
    },
    "tags": []
   },
   "outputs": [
    {
     "data": {
      "text/html": [
       "<div>\n",
       "<style scoped>\n",
       "    .dataframe tbody tr th:only-of-type {\n",
       "        vertical-align: middle;\n",
       "    }\n",
       "\n",
       "    .dataframe tbody tr th {\n",
       "        vertical-align: top;\n",
       "    }\n",
       "\n",
       "    .dataframe thead th {\n",
       "        text-align: right;\n",
       "    }\n",
       "</style>\n",
       "<table border=\"1\" class=\"dataframe\">\n",
       "  <thead>\n",
       "    <tr style=\"text-align: right;\">\n",
       "      <th></th>\n",
       "      <th>id</th>\n",
       "      <th>target</th>\n",
       "    </tr>\n",
       "  </thead>\n",
       "  <tbody>\n",
       "    <tr>\n",
       "      <th>0</th>\n",
       "      <td>_wNsZEqpKUA_2021-12-01</td>\n",
       "      <td>0.090431</td>\n",
       "    </tr>\n",
       "    <tr>\n",
       "      <th>1</th>\n",
       "      <td>2jfbXZiE6Lc_2021-12-01</td>\n",
       "      <td>0.079562</td>\n",
       "    </tr>\n",
       "    <tr>\n",
       "      <th>2</th>\n",
       "      <td>F1Hq8eVOMHs_2021-12-01</td>\n",
       "      <td>0.092622</td>\n",
       "    </tr>\n",
       "    <tr>\n",
       "      <th>3</th>\n",
       "      <td>GQXVQmcGQUY_2021-12-01</td>\n",
       "      <td>0.019918</td>\n",
       "    </tr>\n",
       "    <tr>\n",
       "      <th>4</th>\n",
       "      <td>n4XojTb6pfs_2021-12-01</td>\n",
       "      <td>0.088510</td>\n",
       "    </tr>\n",
       "    <tr>\n",
       "      <th>...</th>\n",
       "      <td>...</td>\n",
       "      <td>...</td>\n",
       "    </tr>\n",
       "    <tr>\n",
       "      <th>5795</th>\n",
       "      <td>hJfpCXAMYPM_2021-12-30</td>\n",
       "      <td>0.058998</td>\n",
       "    </tr>\n",
       "    <tr>\n",
       "      <th>5796</th>\n",
       "      <td>MbmTMEYnEzo_2021-12-30</td>\n",
       "      <td>0.060274</td>\n",
       "    </tr>\n",
       "    <tr>\n",
       "      <th>5797</th>\n",
       "      <td>VG7arSAYvQI_2021-12-30</td>\n",
       "      <td>0.054447</td>\n",
       "    </tr>\n",
       "    <tr>\n",
       "      <th>5798</th>\n",
       "      <td>SNb-g-hNYYs_2021-12-30</td>\n",
       "      <td>0.072979</td>\n",
       "    </tr>\n",
       "    <tr>\n",
       "      <th>5799</th>\n",
       "      <td>_-K-sVn8Iko_2021-12-30</td>\n",
       "      <td>0.039569</td>\n",
       "    </tr>\n",
       "  </tbody>\n",
       "</table>\n",
       "<p>5800 rows × 2 columns</p>\n",
       "</div>"
      ],
      "text/plain": [
       "                          id    target\n",
       "0     _wNsZEqpKUA_2021-12-01  0.090431\n",
       "1     2jfbXZiE6Lc_2021-12-01  0.079562\n",
       "2     F1Hq8eVOMHs_2021-12-01  0.092622\n",
       "3     GQXVQmcGQUY_2021-12-01  0.019918\n",
       "4     n4XojTb6pfs_2021-12-01  0.088510\n",
       "...                      ...       ...\n",
       "5795  hJfpCXAMYPM_2021-12-30  0.058998\n",
       "5796  MbmTMEYnEzo_2021-12-30  0.060274\n",
       "5797  VG7arSAYvQI_2021-12-30  0.054447\n",
       "5798  SNb-g-hNYYs_2021-12-30  0.072979\n",
       "5799  _-K-sVn8Iko_2021-12-30  0.039569\n",
       "\n",
       "[5800 rows x 2 columns]"
      ]
     },
     "execution_count": 55,
     "metadata": {},
     "output_type": "execute_result"
    }
   ],
   "source": [
    "#submission\n",
    "new_submission = pd.DataFrame({'id':test2.id, 'target': testX_pred})\n",
    "new_submission"
   ]
  },
  {
   "cell_type": "code",
   "execution_count": 56,
   "id": "1a9bdfb8",
   "metadata": {
    "execution": {
     "iopub.execute_input": "2022-02-12T17:49:06.093441Z",
     "iopub.status.busy": "2022-02-12T17:49:06.092800Z",
     "iopub.status.idle": "2022-02-12T17:49:06.118254Z",
     "shell.execute_reply": "2022-02-12T17:49:06.118673Z",
     "shell.execute_reply.started": "2022-02-12T17:26:46.052816Z"
    },
    "papermill": {
     "duration": 0.092252,
     "end_time": "2022-02-12T17:49:06.118807",
     "exception": false,
     "start_time": "2022-02-12T17:49:06.026555",
     "status": "completed"
    },
    "tags": []
   },
   "outputs": [],
   "source": [
    "#convert to csv\n",
    "new_submission.to_csv('new_submission.csv',index=False)"
   ]
  }
 ],
 "metadata": {
  "kernelspec": {
   "display_name": "Python 3",
   "language": "python",
   "name": "python3"
  },
  "language_info": {
   "codemirror_mode": {
    "name": "ipython",
    "version": 3
   },
   "file_extension": ".py",
   "mimetype": "text/x-python",
   "name": "python",
   "nbconvert_exporter": "python",
   "pygments_lexer": "ipython3",
   "version": "3.7.12"
  },
  "papermill": {
   "default_parameters": {},
   "duration": 1283.04471,
   "end_time": "2022-02-12T17:49:06.894621",
   "environment_variables": {},
   "exception": null,
   "input_path": "__notebook__.ipynb",
   "output_path": "__notebook__.ipynb",
   "parameters": {},
   "start_time": "2022-02-12T17:27:43.849911",
   "version": "2.3.3"
  }
 },
 "nbformat": 4,
 "nbformat_minor": 5
}
